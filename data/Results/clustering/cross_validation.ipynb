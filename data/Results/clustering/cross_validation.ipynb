{
 "cells": [
  {
   "cell_type": "code",
   "execution_count": 1,
   "metadata": {},
   "outputs": [],
   "source": [
    "import pandas as pd\n",
    "import sklearn.metrics as sk\n",
    "import seaborn as sns\n",
    "from sklearn.metrics import precision_recall_fscore_support"
   ]
  },
  {
   "cell_type": "code",
   "execution_count": 4,
   "metadata": {},
   "outputs": [
    {
     "data": {
      "text/html": [
       "<div>\n",
       "<style scoped>\n",
       "    .dataframe tbody tr th:only-of-type {\n",
       "        vertical-align: middle;\n",
       "    }\n",
       "\n",
       "    .dataframe tbody tr th {\n",
       "        vertical-align: top;\n",
       "    }\n",
       "\n",
       "    .dataframe thead th {\n",
       "        text-align: right;\n",
       "    }\n",
       "</style>\n",
       "<table border=\"1\" class=\"dataframe\">\n",
       "  <thead>\n",
       "    <tr style=\"text-align: right;\">\n",
       "      <th></th>\n",
       "      <th>id_transcript</th>\n",
       "      <th>group</th>\n",
       "    </tr>\n",
       "  </thead>\n",
       "  <tbody>\n",
       "    <tr>\n",
       "      <th>0</th>\n",
       "      <td>ENST00000522677</td>\n",
       "      <td>1</td>\n",
       "    </tr>\n",
       "    <tr>\n",
       "      <th>1</th>\n",
       "      <td>ENSMUST00000088658</td>\n",
       "      <td>1</td>\n",
       "    </tr>\n",
       "    <tr>\n",
       "      <th>2</th>\n",
       "      <td>ENSCAFT00000043735</td>\n",
       "      <td>1</td>\n",
       "    </tr>\n",
       "    <tr>\n",
       "      <th>3</th>\n",
       "      <td>ENST00000524176</td>\n",
       "      <td>2</td>\n",
       "    </tr>\n",
       "    <tr>\n",
       "      <th>4</th>\n",
       "      <td>ENSMUST00000115468</td>\n",
       "      <td>2</td>\n",
       "    </tr>\n",
       "    <tr>\n",
       "      <th>...</th>\n",
       "      <td>...</td>\n",
       "      <td>...</td>\n",
       "    </tr>\n",
       "    <tr>\n",
       "      <th>1891</th>\n",
       "      <td>ENST00000338183</td>\n",
       "      <td>878</td>\n",
       "    </tr>\n",
       "    <tr>\n",
       "      <th>1892</th>\n",
       "      <td>ENST00000562877</td>\n",
       "      <td>878</td>\n",
       "    </tr>\n",
       "    <tr>\n",
       "      <th>1893</th>\n",
       "      <td>ENST00000567389</td>\n",
       "      <td>878</td>\n",
       "    </tr>\n",
       "    <tr>\n",
       "      <th>1894</th>\n",
       "      <td>ENST00000569302</td>\n",
       "      <td>879</td>\n",
       "    </tr>\n",
       "    <tr>\n",
       "      <th>1895</th>\n",
       "      <td>ENSMUST00000166472</td>\n",
       "      <td>879</td>\n",
       "    </tr>\n",
       "  </tbody>\n",
       "</table>\n",
       "<p>1896 rows × 2 columns</p>\n",
       "</div>"
      ],
      "text/plain": [
       "           id_transcript  group\n",
       "0        ENST00000522677      1\n",
       "1     ENSMUST00000088658      1\n",
       "2     ENSCAFT00000043735      1\n",
       "3        ENST00000524176      2\n",
       "4     ENSMUST00000115468      2\n",
       "...                  ...    ...\n",
       "1891     ENST00000338183    878\n",
       "1892     ENST00000562877    878\n",
       "1893     ENST00000567389    878\n",
       "1894     ENST00000569302    879\n",
       "1895  ENSMUST00000166472    879\n",
       "\n",
       "[1896 rows x 2 columns]"
      ]
     },
     "execution_count": 4,
     "metadata": {},
     "output_type": "execute_result"
    }
   ],
   "source": [
    "# clustering per families\n",
    "data_true"
   ]
  },
  {
   "cell_type": "code",
   "execution_count": 3,
   "metadata": {},
   "outputs": [
    {
     "data": {
      "text/html": [
       "<div>\n",
       "<style scoped>\n",
       "    .dataframe tbody tr th:only-of-type {\n",
       "        vertical-align: middle;\n",
       "    }\n",
       "\n",
       "    .dataframe tbody tr th {\n",
       "        vertical-align: top;\n",
       "    }\n",
       "\n",
       "    .dataframe thead th {\n",
       "        text-align: right;\n",
       "    }\n",
       "</style>\n",
       "<table border=\"1\" class=\"dataframe\">\n",
       "  <thead>\n",
       "    <tr style=\"text-align: right;\">\n",
       "      <th></th>\n",
       "      <th>id_transcript</th>\n",
       "      <th>group</th>\n",
       "    </tr>\n",
       "  </thead>\n",
       "  <tbody>\n",
       "    <tr>\n",
       "      <th>0</th>\n",
       "      <td>ENST00000361272</td>\n",
       "      <td>1</td>\n",
       "    </tr>\n",
       "    <tr>\n",
       "      <th>1</th>\n",
       "      <td>ENSCAFT00000011068</td>\n",
       "      <td>1</td>\n",
       "    </tr>\n",
       "    <tr>\n",
       "      <th>2</th>\n",
       "      <td>ENST00000523917</td>\n",
       "      <td>2</td>\n",
       "    </tr>\n",
       "    <tr>\n",
       "      <th>3</th>\n",
       "      <td>ENSMUST00000132032</td>\n",
       "      <td>3</td>\n",
       "    </tr>\n",
       "    <tr>\n",
       "      <th>4</th>\n",
       "      <td>ENSMUST00000149992</td>\n",
       "      <td>3</td>\n",
       "    </tr>\n",
       "    <tr>\n",
       "      <th>...</th>\n",
       "      <td>...</td>\n",
       "      <td>...</td>\n",
       "    </tr>\n",
       "    <tr>\n",
       "      <th>1891</th>\n",
       "      <td>ENSCAFT00000023420</td>\n",
       "      <td>721</td>\n",
       "    </tr>\n",
       "    <tr>\n",
       "      <th>1892</th>\n",
       "      <td>ENST00000319770</td>\n",
       "      <td>722</td>\n",
       "    </tr>\n",
       "    <tr>\n",
       "      <th>1893</th>\n",
       "      <td>ENST00000355772</td>\n",
       "      <td>723</td>\n",
       "    </tr>\n",
       "    <tr>\n",
       "      <th>1894</th>\n",
       "      <td>ENSMUST00000112428</td>\n",
       "      <td>724</td>\n",
       "    </tr>\n",
       "    <tr>\n",
       "      <th>1895</th>\n",
       "      <td>ENSMUST00000046064</td>\n",
       "      <td>724</td>\n",
       "    </tr>\n",
       "  </tbody>\n",
       "</table>\n",
       "<p>1896 rows × 2 columns</p>\n",
       "</div>"
      ],
      "text/plain": [
       "           id_transcript  group\n",
       "0        ENST00000361272      1\n",
       "1     ENSCAFT00000011068      1\n",
       "2        ENST00000523917      2\n",
       "3     ENSMUST00000132032      3\n",
       "4     ENSMUST00000149992      3\n",
       "...                  ...    ...\n",
       "1891  ENSCAFT00000023420    721\n",
       "1892     ENST00000319770    722\n",
       "1893     ENST00000355772    723\n",
       "1894  ENSMUST00000112428    724\n",
       "1895  ENSMUST00000046064    724\n",
       "\n",
       "[1896 rows x 2 columns]"
      ]
     },
     "execution_count": 3,
     "metadata": {},
     "output_type": "execute_result"
    }
   ],
   "source": [
    "tsm_Kalign_m"
   ]
  },
  {
   "cell_type": "code",
   "execution_count": 44,
   "metadata": {},
   "outputs": [
    {
     "name": "stdout",
     "output_type": "stream",
     "text": [
      "ENSGT00390000000080\n",
      "ENSGT00390000000104\n",
      "ENSGT00390000000212\n",
      "ENSGT00390000000583\n"
     ]
    },
    {
     "name": "stderr",
     "output_type": "stream",
     "text": [
      "/usr/local/lib/python3.6/dist-packages/sklearn/metrics/_classification.py:1221: UndefinedMetricWarning: Precision and F-score are ill-defined and being set to 0.0 in labels with no predicted samples. Use `zero_division` parameter to control this behavior.\n",
      "  _warn_prf(average, modifier, msg_start, len(result))\n",
      "/usr/local/lib/python3.6/dist-packages/sklearn/metrics/_classification.py:1221: UndefinedMetricWarning: Recall and F-score are ill-defined and being set to 0.0 in labels with no true samples. Use `zero_division` parameter to control this behavior.\n",
      "  _warn_prf(average, modifier, msg_start, len(result))\n",
      "/usr/local/lib/python3.6/dist-packages/sklearn/metrics/_classification.py:1221: UndefinedMetricWarning: Precision and F-score are ill-defined and being set to 0.0 in labels with no predicted samples. Use `zero_division` parameter to control this behavior.\n",
      "  _warn_prf(average, modifier, msg_start, len(result))\n",
      "/usr/local/lib/python3.6/dist-packages/sklearn/metrics/_classification.py:1221: UndefinedMetricWarning: Recall and F-score are ill-defined and being set to 0.0 in labels with no true samples. Use `zero_division` parameter to control this behavior.\n",
      "  _warn_prf(average, modifier, msg_start, len(result))\n"
     ]
    },
    {
     "name": "stdout",
     "output_type": "stream",
     "text": [
      "ENSGT00390000000860\n",
      "ENSGT00390000001038\n",
      "ENSGT00390000001586\n"
     ]
    },
    {
     "name": "stderr",
     "output_type": "stream",
     "text": [
      "/usr/local/lib/python3.6/dist-packages/sklearn/metrics/_classification.py:1221: UndefinedMetricWarning: Precision and F-score are ill-defined and being set to 0.0 in labels with no predicted samples. Use `zero_division` parameter to control this behavior.\n",
      "  _warn_prf(average, modifier, msg_start, len(result))\n"
     ]
    },
    {
     "name": "stdout",
     "output_type": "stream",
     "text": [
      "ENSGT00390000002049\n",
      "ENSGT00390000002215\n",
      "ENSGT00390000002219\n",
      "ENSGT00390000002869\n"
     ]
    },
    {
     "name": "stderr",
     "output_type": "stream",
     "text": [
      "/usr/local/lib/python3.6/dist-packages/sklearn/metrics/_classification.py:1221: UndefinedMetricWarning: Precision and F-score are ill-defined and being set to 0.0 in labels with no predicted samples. Use `zero_division` parameter to control this behavior.\n",
      "  _warn_prf(average, modifier, msg_start, len(result))\n",
      "/usr/local/lib/python3.6/dist-packages/sklearn/metrics/_classification.py:1221: UndefinedMetricWarning: Recall and F-score are ill-defined and being set to 0.0 in labels with no true samples. Use `zero_division` parameter to control this behavior.\n",
      "  _warn_prf(average, modifier, msg_start, len(result))\n"
     ]
    },
    {
     "name": "stdout",
     "output_type": "stream",
     "text": [
      "ENSGT00390000003289\n",
      "ENSGT00390000003751\n"
     ]
    },
    {
     "name": "stderr",
     "output_type": "stream",
     "text": [
      "/usr/local/lib/python3.6/dist-packages/sklearn/metrics/_classification.py:1221: UndefinedMetricWarning: Precision and F-score are ill-defined and being set to 0.0 in labels with no predicted samples. Use `zero_division` parameter to control this behavior.\n",
      "  _warn_prf(average, modifier, msg_start, len(result))\n",
      "/usr/local/lib/python3.6/dist-packages/sklearn/metrics/_classification.py:1221: UndefinedMetricWarning: Recall and F-score are ill-defined and being set to 0.0 in labels with no true samples. Use `zero_division` parameter to control this behavior.\n",
      "  _warn_prf(average, modifier, msg_start, len(result))\n"
     ]
    },
    {
     "name": "stdout",
     "output_type": "stream",
     "text": [
      "ENSGT00390000004263\n",
      "ENSGT00390000004420\n",
      "ENSGT00390000004852\n",
      "ENSGT00390000005436\n"
     ]
    },
    {
     "name": "stderr",
     "output_type": "stream",
     "text": [
      "/usr/local/lib/python3.6/dist-packages/sklearn/metrics/_classification.py:1221: UndefinedMetricWarning: Precision and F-score are ill-defined and being set to 0.0 in labels with no predicted samples. Use `zero_division` parameter to control this behavior.\n",
      "  _warn_prf(average, modifier, msg_start, len(result))\n",
      "/usr/local/lib/python3.6/dist-packages/sklearn/metrics/_classification.py:1221: UndefinedMetricWarning: Recall and F-score are ill-defined and being set to 0.0 in labels with no true samples. Use `zero_division` parameter to control this behavior.\n",
      "  _warn_prf(average, modifier, msg_start, len(result))\n",
      "/usr/local/lib/python3.6/dist-packages/sklearn/metrics/_classification.py:1221: UndefinedMetricWarning: Precision and F-score are ill-defined and being set to 0.0 in labels with no predicted samples. Use `zero_division` parameter to control this behavior.\n",
      "  _warn_prf(average, modifier, msg_start, len(result))\n"
     ]
    },
    {
     "name": "stdout",
     "output_type": "stream",
     "text": [
      "ENSGT00390000005492\n",
      "ENSGT00390000005639\n"
     ]
    },
    {
     "name": "stderr",
     "output_type": "stream",
     "text": [
      "/usr/local/lib/python3.6/dist-packages/sklearn/metrics/_classification.py:1221: UndefinedMetricWarning: Precision and F-score are ill-defined and being set to 0.0 in labels with no predicted samples. Use `zero_division` parameter to control this behavior.\n",
      "  _warn_prf(average, modifier, msg_start, len(result))\n",
      "/usr/local/lib/python3.6/dist-packages/sklearn/metrics/_classification.py:1221: UndefinedMetricWarning: Precision and F-score are ill-defined and being set to 0.0 in labels with no predicted samples. Use `zero_division` parameter to control this behavior.\n",
      "  _warn_prf(average, modifier, msg_start, len(result))\n"
     ]
    },
    {
     "name": "stdout",
     "output_type": "stream",
     "text": [
      "ENSGT00390000005653\n",
      "ENSGT00390000005720\n",
      "ENSGT00390000006330\n",
      "ENSGT00390000006718\n",
      "ENSGT00390000006915\n",
      "ENSGT00390000007225\n",
      "ENSGT00390000007430\n"
     ]
    },
    {
     "name": "stderr",
     "output_type": "stream",
     "text": [
      "/usr/local/lib/python3.6/dist-packages/sklearn/metrics/_classification.py:1221: UndefinedMetricWarning: Precision and F-score are ill-defined and being set to 0.0 in labels with no predicted samples. Use `zero_division` parameter to control this behavior.\n",
      "  _warn_prf(average, modifier, msg_start, len(result))\n"
     ]
    },
    {
     "name": "stdout",
     "output_type": "stream",
     "text": [
      "ENSGT00390000007688\n",
      "ENSGT00390000007725\n",
      "ENSGT00390000008738\n"
     ]
    },
    {
     "name": "stderr",
     "output_type": "stream",
     "text": [
      "/usr/local/lib/python3.6/dist-packages/sklearn/metrics/_classification.py:1221: UndefinedMetricWarning: Precision and F-score are ill-defined and being set to 0.0 in labels with no predicted samples. Use `zero_division` parameter to control this behavior.\n",
      "  _warn_prf(average, modifier, msg_start, len(result))\n",
      "/usr/local/lib/python3.6/dist-packages/sklearn/metrics/_classification.py:1221: UndefinedMetricWarning: Recall and F-score are ill-defined and being set to 0.0 in labels with no true samples. Use `zero_division` parameter to control this behavior.\n",
      "  _warn_prf(average, modifier, msg_start, len(result))\n",
      "/usr/local/lib/python3.6/dist-packages/sklearn/metrics/_classification.py:1221: UndefinedMetricWarning: Recall and F-score are ill-defined and being set to 0.0 in labels with no true samples. Use `zero_division` parameter to control this behavior.\n",
      "  _warn_prf(average, modifier, msg_start, len(result))\n"
     ]
    },
    {
     "name": "stdout",
     "output_type": "stream",
     "text": [
      "ENSGT00390000008805\n",
      "ENSGT00390000009187\n"
     ]
    },
    {
     "name": "stderr",
     "output_type": "stream",
     "text": [
      "/usr/local/lib/python3.6/dist-packages/sklearn/metrics/_classification.py:1221: UndefinedMetricWarning: Precision and F-score are ill-defined and being set to 0.0 in labels with no predicted samples. Use `zero_division` parameter to control this behavior.\n",
      "  _warn_prf(average, modifier, msg_start, len(result))\n",
      "/usr/local/lib/python3.6/dist-packages/sklearn/metrics/_classification.py:1221: UndefinedMetricWarning: Precision and F-score are ill-defined and being set to 0.0 in labels with no predicted samples. Use `zero_division` parameter to control this behavior.\n",
      "  _warn_prf(average, modifier, msg_start, len(result))\n"
     ]
    },
    {
     "name": "stdout",
     "output_type": "stream",
     "text": [
      "ENSGT00390000009225\n",
      "ENSGT00390000009535\n",
      "ENSGT00390000009627\n",
      "ENSGT00390000009964\n"
     ]
    },
    {
     "name": "stderr",
     "output_type": "stream",
     "text": [
      "/usr/local/lib/python3.6/dist-packages/sklearn/metrics/_classification.py:1221: UndefinedMetricWarning: Precision and F-score are ill-defined and being set to 0.0 in labels with no predicted samples. Use `zero_division` parameter to control this behavior.\n",
      "  _warn_prf(average, modifier, msg_start, len(result))\n",
      "/usr/local/lib/python3.6/dist-packages/sklearn/metrics/_classification.py:1221: UndefinedMetricWarning: Precision and F-score are ill-defined and being set to 0.0 in labels with no predicted samples. Use `zero_division` parameter to control this behavior.\n",
      "  _warn_prf(average, modifier, msg_start, len(result))\n"
     ]
    },
    {
     "name": "stdout",
     "output_type": "stream",
     "text": [
      "ENSGT00390000010039\n",
      "ENSGT00390000010072\n"
     ]
    },
    {
     "name": "stderr",
     "output_type": "stream",
     "text": [
      "/usr/local/lib/python3.6/dist-packages/sklearn/metrics/_classification.py:1221: UndefinedMetricWarning: Precision and F-score are ill-defined and being set to 0.0 in labels with no predicted samples. Use `zero_division` parameter to control this behavior.\n",
      "  _warn_prf(average, modifier, msg_start, len(result))\n",
      "/usr/local/lib/python3.6/dist-packages/sklearn/metrics/_classification.py:1221: UndefinedMetricWarning: Recall and F-score are ill-defined and being set to 0.0 in labels with no true samples. Use `zero_division` parameter to control this behavior.\n",
      "  _warn_prf(average, modifier, msg_start, len(result))\n"
     ]
    },
    {
     "name": "stdout",
     "output_type": "stream",
     "text": [
      "ENSGT00390000010215\n",
      "ENSGT00390000010431\n",
      "ENSGT00390000010441\n"
     ]
    },
    {
     "name": "stderr",
     "output_type": "stream",
     "text": [
      "/usr/local/lib/python3.6/dist-packages/sklearn/metrics/_classification.py:1221: UndefinedMetricWarning: Precision and F-score are ill-defined and being set to 0.0 in labels with no predicted samples. Use `zero_division` parameter to control this behavior.\n",
      "  _warn_prf(average, modifier, msg_start, len(result))\n",
      "/usr/local/lib/python3.6/dist-packages/sklearn/metrics/_classification.py:1221: UndefinedMetricWarning: Recall and F-score are ill-defined and being set to 0.0 in labels with no true samples. Use `zero_division` parameter to control this behavior.\n",
      "  _warn_prf(average, modifier, msg_start, len(result))\n"
     ]
    },
    {
     "name": "stdout",
     "output_type": "stream",
     "text": [
      "ENSGT00390000010858\n",
      "ENSGT00390000011058\n",
      "ENSGT00390000011576\n",
      "ENSGT00390000012078\n",
      "ENSGT00390000012082\n"
     ]
    },
    {
     "name": "stderr",
     "output_type": "stream",
     "text": [
      "/usr/local/lib/python3.6/dist-packages/sklearn/metrics/_classification.py:1221: UndefinedMetricWarning: Precision and F-score are ill-defined and being set to 0.0 in labels with no predicted samples. Use `zero_division` parameter to control this behavior.\n",
      "  _warn_prf(average, modifier, msg_start, len(result))\n",
      "/usr/local/lib/python3.6/dist-packages/sklearn/metrics/_classification.py:1221: UndefinedMetricWarning: Recall and F-score are ill-defined and being set to 0.0 in labels with no true samples. Use `zero_division` parameter to control this behavior.\n",
      "  _warn_prf(average, modifier, msg_start, len(result))\n"
     ]
    },
    {
     "name": "stdout",
     "output_type": "stream",
     "text": [
      "ENSGT00390000012143\n",
      "ENSGT00390000012186\n",
      "ENSGT00390000012202\n"
     ]
    },
    {
     "name": "stderr",
     "output_type": "stream",
     "text": [
      "/usr/local/lib/python3.6/dist-packages/sklearn/metrics/_classification.py:1221: UndefinedMetricWarning: Precision and F-score are ill-defined and being set to 0.0 in labels with no predicted samples. Use `zero_division` parameter to control this behavior.\n",
      "  _warn_prf(average, modifier, msg_start, len(result))\n",
      "/usr/local/lib/python3.6/dist-packages/sklearn/metrics/_classification.py:1221: UndefinedMetricWarning: Recall and F-score are ill-defined and being set to 0.0 in labels with no true samples. Use `zero_division` parameter to control this behavior.\n",
      "  _warn_prf(average, modifier, msg_start, len(result))\n",
      "/usr/local/lib/python3.6/dist-packages/sklearn/metrics/_classification.py:1221: UndefinedMetricWarning: Precision and F-score are ill-defined and being set to 0.0 in labels with no predicted samples. Use `zero_division` parameter to control this behavior.\n",
      "  _warn_prf(average, modifier, msg_start, len(result))\n",
      "/usr/local/lib/python3.6/dist-packages/sklearn/metrics/_classification.py:1221: UndefinedMetricWarning: Precision and F-score are ill-defined and being set to 0.0 in labels with no predicted samples. Use `zero_division` parameter to control this behavior.\n",
      "  _warn_prf(average, modifier, msg_start, len(result))\n"
     ]
    },
    {
     "name": "stdout",
     "output_type": "stream",
     "text": [
      "ENSGT00390000012618\n",
      "ENSGT00390000012886\n"
     ]
    },
    {
     "name": "stderr",
     "output_type": "stream",
     "text": [
      "/usr/local/lib/python3.6/dist-packages/sklearn/metrics/_classification.py:1221: UndefinedMetricWarning: Precision and F-score are ill-defined and being set to 0.0 in labels with no predicted samples. Use `zero_division` parameter to control this behavior.\n",
      "  _warn_prf(average, modifier, msg_start, len(result))\n",
      "/usr/local/lib/python3.6/dist-packages/sklearn/metrics/_classification.py:1221: UndefinedMetricWarning: Recall and F-score are ill-defined and being set to 0.0 in labels with no true samples. Use `zero_division` parameter to control this behavior.\n",
      "  _warn_prf(average, modifier, msg_start, len(result))\n"
     ]
    },
    {
     "name": "stdout",
     "output_type": "stream",
     "text": [
      "ENSGT00390000012913\n",
      "ENSGT00390000013112\n"
     ]
    },
    {
     "name": "stderr",
     "output_type": "stream",
     "text": [
      "/usr/local/lib/python3.6/dist-packages/sklearn/metrics/_classification.py:1221: UndefinedMetricWarning: Precision and F-score are ill-defined and being set to 0.0 in labels with no predicted samples. Use `zero_division` parameter to control this behavior.\n",
      "  _warn_prf(average, modifier, msg_start, len(result))\n",
      "/usr/local/lib/python3.6/dist-packages/sklearn/metrics/_classification.py:1221: UndefinedMetricWarning: Recall and F-score are ill-defined and being set to 0.0 in labels with no true samples. Use `zero_division` parameter to control this behavior.\n",
      "  _warn_prf(average, modifier, msg_start, len(result))\n"
     ]
    },
    {
     "name": "stdout",
     "output_type": "stream",
     "text": [
      "ENSGT00390000013613\n",
      "ENSGT00390000013955\n",
      "ENSGT00390000013974\n",
      "ENSGT00390000013989\n",
      "ENSGT00390000014155\n"
     ]
    },
    {
     "name": "stderr",
     "output_type": "stream",
     "text": [
      "/usr/local/lib/python3.6/dist-packages/sklearn/metrics/_classification.py:1221: UndefinedMetricWarning: Precision and F-score are ill-defined and being set to 0.0 in labels with no predicted samples. Use `zero_division` parameter to control this behavior.\n",
      "  _warn_prf(average, modifier, msg_start, len(result))\n",
      "/usr/local/lib/python3.6/dist-packages/sklearn/metrics/_classification.py:1221: UndefinedMetricWarning: Recall and F-score are ill-defined and being set to 0.0 in labels with no true samples. Use `zero_division` parameter to control this behavior.\n",
      "  _warn_prf(average, modifier, msg_start, len(result))\n"
     ]
    },
    {
     "name": "stdout",
     "output_type": "stream",
     "text": [
      "ENSGT00390000014393\n",
      "ENSGT00390000014757\n",
      "ENSGT00390000014924\n",
      "ENSGT00390000015092\n"
     ]
    },
    {
     "name": "stderr",
     "output_type": "stream",
     "text": [
      "/usr/local/lib/python3.6/dist-packages/sklearn/metrics/_classification.py:1221: UndefinedMetricWarning: Precision and F-score are ill-defined and being set to 0.0 in labels with no predicted samples. Use `zero_division` parameter to control this behavior.\n",
      "  _warn_prf(average, modifier, msg_start, len(result))\n",
      "/usr/local/lib/python3.6/dist-packages/sklearn/metrics/_classification.py:1221: UndefinedMetricWarning: Precision and F-score are ill-defined and being set to 0.0 in labels with no predicted samples. Use `zero_division` parameter to control this behavior.\n",
      "  _warn_prf(average, modifier, msg_start, len(result))\n",
      "/usr/local/lib/python3.6/dist-packages/sklearn/metrics/_classification.py:1221: UndefinedMetricWarning: Recall and F-score are ill-defined and being set to 0.0 in labels with no true samples. Use `zero_division` parameter to control this behavior.\n",
      "  _warn_prf(average, modifier, msg_start, len(result))\n"
     ]
    },
    {
     "name": "stdout",
     "output_type": "stream",
     "text": [
      "ENSGT00390000015107\n",
      "ENSGT00390000015714\n",
      "ENSGT00390000016016\n",
      "ENSGT00390000016215\n",
      "ENSGT00390000016223\n",
      "ENSGT00390000016462\n"
     ]
    },
    {
     "name": "stderr",
     "output_type": "stream",
     "text": [
      "/usr/local/lib/python3.6/dist-packages/sklearn/metrics/_classification.py:1221: UndefinedMetricWarning: Precision and F-score are ill-defined and being set to 0.0 in labels with no predicted samples. Use `zero_division` parameter to control this behavior.\n",
      "  _warn_prf(average, modifier, msg_start, len(result))\n",
      "/usr/local/lib/python3.6/dist-packages/sklearn/metrics/_classification.py:1221: UndefinedMetricWarning: Precision and F-score are ill-defined and being set to 0.0 in labels with no predicted samples. Use `zero_division` parameter to control this behavior.\n",
      "  _warn_prf(average, modifier, msg_start, len(result))\n"
     ]
    },
    {
     "name": "stdout",
     "output_type": "stream",
     "text": [
      "ENSGT00390000016577\n",
      "ENSGT00390000016904\n",
      "ENSGT00390000017241\n"
     ]
    },
    {
     "name": "stderr",
     "output_type": "stream",
     "text": [
      "/usr/local/lib/python3.6/dist-packages/sklearn/metrics/_classification.py:1221: UndefinedMetricWarning: Precision and F-score are ill-defined and being set to 0.0 in labels with no predicted samples. Use `zero_division` parameter to control this behavior.\n",
      "  _warn_prf(average, modifier, msg_start, len(result))\n"
     ]
    },
    {
     "name": "stdout",
     "output_type": "stream",
     "text": [
      "ENSGT00390000017627\n",
      "ENSGT00390000017850\n",
      "ENSGT00390000018003\n",
      "ENSGT00390000018031\n",
      "ENSGT00390000018123\n"
     ]
    },
    {
     "name": "stderr",
     "output_type": "stream",
     "text": [
      "/usr/local/lib/python3.6/dist-packages/sklearn/metrics/_classification.py:1221: UndefinedMetricWarning: Precision and F-score are ill-defined and being set to 0.0 in labels with no predicted samples. Use `zero_division` parameter to control this behavior.\n",
      "  _warn_prf(average, modifier, msg_start, len(result))\n",
      "/usr/local/lib/python3.6/dist-packages/sklearn/metrics/_classification.py:1221: UndefinedMetricWarning: Recall and F-score are ill-defined and being set to 0.0 in labels with no true samples. Use `zero_division` parameter to control this behavior.\n",
      "  _warn_prf(average, modifier, msg_start, len(result))\n"
     ]
    },
    {
     "name": "stdout",
     "output_type": "stream",
     "text": [
      "ENSGT00390000018199\n",
      "ENSGT00390000018272\n",
      "ENSGT00390000018330\n",
      "ENSGT00390000018465\n",
      "ENSGT00390000018885\n"
     ]
    },
    {
     "name": "stderr",
     "output_type": "stream",
     "text": [
      "/usr/local/lib/python3.6/dist-packages/sklearn/metrics/_classification.py:1221: UndefinedMetricWarning: Precision and F-score are ill-defined and being set to 0.0 in labels with no predicted samples. Use `zero_division` parameter to control this behavior.\n",
      "  _warn_prf(average, modifier, msg_start, len(result))\n",
      "/usr/local/lib/python3.6/dist-packages/sklearn/metrics/_classification.py:1221: UndefinedMetricWarning: Recall and F-score are ill-defined and being set to 0.0 in labels with no true samples. Use `zero_division` parameter to control this behavior.\n",
      "  _warn_prf(average, modifier, msg_start, len(result))\n"
     ]
    },
    {
     "name": "stdout",
     "output_type": "stream",
     "text": [
      "ENSGT00410000025363\n",
      "ENSGT00440000033687\n",
      "ENSGT00440000035370\n"
     ]
    },
    {
     "name": "stderr",
     "output_type": "stream",
     "text": [
      "/usr/local/lib/python3.6/dist-packages/sklearn/metrics/_classification.py:1221: UndefinedMetricWarning: Precision and F-score are ill-defined and being set to 0.0 in labels with no predicted samples. Use `zero_division` parameter to control this behavior.\n",
      "  _warn_prf(average, modifier, msg_start, len(result))\n"
     ]
    },
    {
     "name": "stdout",
     "output_type": "stream",
     "text": [
      "ENSGT00440000039936\n",
      "ENSGT00440000040103\n",
      "ENSGT00490000043415\n",
      "ENSGT00500000044808\n",
      "ENSGT00510000046403\n",
      "ENSGT00510000046419"
     ]
    },
    {
     "name": "stderr",
     "output_type": "stream",
     "text": [
      "/usr/local/lib/python3.6/dist-packages/sklearn/metrics/_classification.py:1221: UndefinedMetricWarning: Precision and F-score are ill-defined and being set to 0.0 in labels with no predicted samples. Use `zero_division` parameter to control this behavior.\n",
      "  _warn_prf(average, modifier, msg_start, len(result))\n",
      "/usr/local/lib/python3.6/dist-packages/sklearn/metrics/_classification.py:1221: UndefinedMetricWarning: Recall and F-score are ill-defined and being set to 0.0 in labels with no true samples. Use `zero_division` parameter to control this behavior.\n",
      "  _warn_prf(average, modifier, msg_start, len(result))\n",
      "/usr/local/lib/python3.6/dist-packages/sklearn/metrics/_classification.py:1221: UndefinedMetricWarning: Precision and F-score are ill-defined and being set to 0.0 in labels with no predicted samples. Use `zero_division` parameter to control this behavior.\n",
      "  _warn_prf(average, modifier, msg_start, len(result))\n",
      "/usr/local/lib/python3.6/dist-packages/sklearn/metrics/_classification.py:1221: UndefinedMetricWarning: Recall and F-score are ill-defined and being set to 0.0 in labels with no true samples. Use `zero_division` parameter to control this behavior.\n",
      "  _warn_prf(average, modifier, msg_start, len(result))\n",
      "/usr/local/lib/python3.6/dist-packages/sklearn/metrics/_classification.py:1221: UndefinedMetricWarning: Precision and F-score are ill-defined and being set to 0.0 in labels with no predicted samples. Use `zero_division` parameter to control this behavior.\n",
      "  _warn_prf(average, modifier, msg_start, len(result))\n",
      "/usr/local/lib/python3.6/dist-packages/sklearn/metrics/_classification.py:1221: UndefinedMetricWarning: Recall and F-score are ill-defined and being set to 0.0 in labels with no true samples. Use `zero_division` parameter to control this behavior.\n",
      "  _warn_prf(average, modifier, msg_start, len(result))\n"
     ]
    },
    {
     "name": "stdout",
     "output_type": "stream",
     "text": [
      "\n",
      "ENSGT00510000046421\n",
      "ENSGT00510000046606\n",
      "ENSGT00510000046803\n"
     ]
    },
    {
     "name": "stderr",
     "output_type": "stream",
     "text": [
      "/usr/local/lib/python3.6/dist-packages/sklearn/metrics/_classification.py:1221: UndefinedMetricWarning: Precision and F-score are ill-defined and being set to 0.0 in labels with no predicted samples. Use `zero_division` parameter to control this behavior.\n",
      "  _warn_prf(average, modifier, msg_start, len(result))\n",
      "/usr/local/lib/python3.6/dist-packages/sklearn/metrics/_classification.py:1221: UndefinedMetricWarning: Precision and F-score are ill-defined and being set to 0.0 in labels with no predicted samples. Use `zero_division` parameter to control this behavior.\n",
      "  _warn_prf(average, modifier, msg_start, len(result))\n",
      "/usr/local/lib/python3.6/dist-packages/sklearn/metrics/_classification.py:1221: UndefinedMetricWarning: Recall and F-score are ill-defined and being set to 0.0 in labels with no true samples. Use `zero_division` parameter to control this behavior.\n",
      "  _warn_prf(average, modifier, msg_start, len(result))\n"
     ]
    },
    {
     "name": "stdout",
     "output_type": "stream",
     "text": [
      "ENSGT00510000046974\n",
      "ENSGT00510000047065\n",
      "ENSGT00510000047522\n",
      "ENSGT00510000048032\n",
      "ENSGT00510000048934\n",
      "ENSGT00520000055591\n",
      "ENSGT00520000055597\n",
      "ENSGT00530000062839\n",
      "ENSGT00530000062888\n",
      "ENSGT00530000062919\n",
      "ENSGT00530000063062\n"
     ]
    },
    {
     "name": "stderr",
     "output_type": "stream",
     "text": [
      "/usr/local/lib/python3.6/dist-packages/sklearn/metrics/_classification.py:1221: UndefinedMetricWarning: Precision and F-score are ill-defined and being set to 0.0 in labels with no predicted samples. Use `zero_division` parameter to control this behavior.\n",
      "  _warn_prf(average, modifier, msg_start, len(result))\n"
     ]
    },
    {
     "name": "stdout",
     "output_type": "stream",
     "text": [
      "ENSGT00530000063077\n",
      "ENSGT00530000063087\n"
     ]
    },
    {
     "name": "stderr",
     "output_type": "stream",
     "text": [
      "/usr/local/lib/python3.6/dist-packages/sklearn/metrics/_classification.py:1221: UndefinedMetricWarning: Precision and F-score are ill-defined and being set to 0.0 in labels with no predicted samples. Use `zero_division` parameter to control this behavior.\n",
      "  _warn_prf(average, modifier, msg_start, len(result))\n",
      "/usr/local/lib/python3.6/dist-packages/sklearn/metrics/_classification.py:1221: UndefinedMetricWarning: Recall and F-score are ill-defined and being set to 0.0 in labels with no true samples. Use `zero_division` parameter to control this behavior.\n",
      "  _warn_prf(average, modifier, msg_start, len(result))\n"
     ]
    },
    {
     "name": "stdout",
     "output_type": "stream",
     "text": [
      "ENSGT00530000063138\n",
      "ENSGT00530000063156\n",
      "ENSGT00530000063194\n",
      "ENSGT00530000063197\n",
      "ENSGT00530000063211\n"
     ]
    },
    {
     "name": "stderr",
     "output_type": "stream",
     "text": [
      "/usr/local/lib/python3.6/dist-packages/sklearn/metrics/_classification.py:1221: UndefinedMetricWarning: Precision and F-score are ill-defined and being set to 0.0 in labels with no predicted samples. Use `zero_division` parameter to control this behavior.\n",
      "  _warn_prf(average, modifier, msg_start, len(result))\n"
     ]
    },
    {
     "name": "stdout",
     "output_type": "stream",
     "text": [
      "ENSGT00530000063219\n",
      "ENSGT00530000063301\n",
      "ENSGT00530000063319\n"
     ]
    },
    {
     "name": "stderr",
     "output_type": "stream",
     "text": [
      "/usr/local/lib/python3.6/dist-packages/sklearn/metrics/_classification.py:1221: UndefinedMetricWarning: Precision and F-score are ill-defined and being set to 0.0 in labels with no predicted samples. Use `zero_division` parameter to control this behavior.\n",
      "  _warn_prf(average, modifier, msg_start, len(result))\n",
      "/usr/local/lib/python3.6/dist-packages/sklearn/metrics/_classification.py:1221: UndefinedMetricWarning: Precision and F-score are ill-defined and being set to 0.0 in labels with no predicted samples. Use `zero_division` parameter to control this behavior.\n",
      "  _warn_prf(average, modifier, msg_start, len(result))\n",
      "/usr/local/lib/python3.6/dist-packages/sklearn/metrics/_classification.py:1221: UndefinedMetricWarning: Recall and F-score are ill-defined and being set to 0.0 in labels with no true samples. Use `zero_division` parameter to control this behavior.\n",
      "  _warn_prf(average, modifier, msg_start, len(result))\n"
     ]
    },
    {
     "name": "stdout",
     "output_type": "stream",
     "text": [
      "ENSGT00530000063426\n",
      "ENSGT00530000063457\n",
      "ENSGT00530000063553\n",
      "ENSGT00530000063594\n",
      "ENSGT00530000063690\n"
     ]
    },
    {
     "name": "stderr",
     "output_type": "stream",
     "text": [
      "/usr/local/lib/python3.6/dist-packages/sklearn/metrics/_classification.py:1221: UndefinedMetricWarning: Recall and F-score are ill-defined and being set to 0.0 in labels with no true samples. Use `zero_division` parameter to control this behavior.\n",
      "  _warn_prf(average, modifier, msg_start, len(result))\n",
      "/usr/local/lib/python3.6/dist-packages/sklearn/metrics/_classification.py:1221: UndefinedMetricWarning: Recall and F-score are ill-defined and being set to 0.0 in labels with no true samples. Use `zero_division` parameter to control this behavior.\n",
      "  _warn_prf(average, modifier, msg_start, len(result))\n"
     ]
    },
    {
     "name": "stdout",
     "output_type": "stream",
     "text": [
      "ENSGT00530000063721\n",
      "ENSGT00530000063811\n",
      "ENSGT00530000063984\n",
      "ENSGT00550000074260\n"
     ]
    },
    {
     "name": "stderr",
     "output_type": "stream",
     "text": [
      "/usr/local/lib/python3.6/dist-packages/sklearn/metrics/_classification.py:1221: UndefinedMetricWarning: Precision and F-score are ill-defined and being set to 0.0 in labels with no predicted samples. Use `zero_division` parameter to control this behavior.\n",
      "  _warn_prf(average, modifier, msg_start, len(result))\n",
      "/usr/local/lib/python3.6/dist-packages/sklearn/metrics/_classification.py:1221: UndefinedMetricWarning: Precision and F-score are ill-defined and being set to 0.0 in labels with no predicted samples. Use `zero_division` parameter to control this behavior.\n",
      "  _warn_prf(average, modifier, msg_start, len(result))\n"
     ]
    },
    {
     "name": "stdout",
     "output_type": "stream",
     "text": [
      "ENSGT00550000074271\n",
      "ENSGT00550000074327\n"
     ]
    },
    {
     "name": "stderr",
     "output_type": "stream",
     "text": [
      "/usr/local/lib/python3.6/dist-packages/sklearn/metrics/_classification.py:1221: UndefinedMetricWarning: Precision and F-score are ill-defined and being set to 0.0 in labels with no predicted samples. Use `zero_division` parameter to control this behavior.\n",
      "  _warn_prf(average, modifier, msg_start, len(result))\n",
      "/usr/local/lib/python3.6/dist-packages/sklearn/metrics/_classification.py:1221: UndefinedMetricWarning: Precision and F-score are ill-defined and being set to 0.0 in labels with no predicted samples. Use `zero_division` parameter to control this behavior.\n",
      "  _warn_prf(average, modifier, msg_start, len(result))\n"
     ]
    },
    {
     "name": "stdout",
     "output_type": "stream",
     "text": [
      "ENSGT00550000074359\n",
      "ENSGT00550000074366\n"
     ]
    },
    {
     "name": "stderr",
     "output_type": "stream",
     "text": [
      "/usr/local/lib/python3.6/dist-packages/sklearn/metrics/_classification.py:1221: UndefinedMetricWarning: Precision and F-score are ill-defined and being set to 0.0 in labels with no predicted samples. Use `zero_division` parameter to control this behavior.\n",
      "  _warn_prf(average, modifier, msg_start, len(result))\n",
      "/usr/local/lib/python3.6/dist-packages/sklearn/metrics/_classification.py:1221: UndefinedMetricWarning: Recall and F-score are ill-defined and being set to 0.0 in labels with no true samples. Use `zero_division` parameter to control this behavior.\n",
      "  _warn_prf(average, modifier, msg_start, len(result))\n",
      "/usr/local/lib/python3.6/dist-packages/sklearn/metrics/_classification.py:1221: UndefinedMetricWarning: Precision and F-score are ill-defined and being set to 0.0 in labels with no predicted samples. Use `zero_division` parameter to control this behavior.\n",
      "  _warn_prf(average, modifier, msg_start, len(result))\n",
      "/usr/local/lib/python3.6/dist-packages/sklearn/metrics/_classification.py:1221: UndefinedMetricWarning: Recall and F-score are ill-defined and being set to 0.0 in labels with no true samples. Use `zero_division` parameter to control this behavior.\n",
      "  _warn_prf(average, modifier, msg_start, len(result))\n",
      "/usr/local/lib/python3.6/dist-packages/sklearn/metrics/_classification.py:1221: UndefinedMetricWarning: Precision and F-score are ill-defined and being set to 0.0 in labels with no predicted samples. Use `zero_division` parameter to control this behavior.\n",
      "  _warn_prf(average, modifier, msg_start, len(result))\n"
     ]
    },
    {
     "name": "stdout",
     "output_type": "stream",
     "text": [
      "ENSGT00550000074369\n",
      "ENSGT00550000074406\n",
      "ENSGT00550000074414\n"
     ]
    },
    {
     "name": "stderr",
     "output_type": "stream",
     "text": [
      "/usr/local/lib/python3.6/dist-packages/sklearn/metrics/_classification.py:1221: UndefinedMetricWarning: Precision and F-score are ill-defined and being set to 0.0 in labels with no predicted samples. Use `zero_division` parameter to control this behavior.\n",
      "  _warn_prf(average, modifier, msg_start, len(result))\n",
      "/usr/local/lib/python3.6/dist-packages/sklearn/metrics/_classification.py:1221: UndefinedMetricWarning: Precision and F-score are ill-defined and being set to 0.0 in labels with no predicted samples. Use `zero_division` parameter to control this behavior.\n",
      "  _warn_prf(average, modifier, msg_start, len(result))\n",
      "/usr/local/lib/python3.6/dist-packages/sklearn/metrics/_classification.py:1221: UndefinedMetricWarning: Precision and F-score are ill-defined and being set to 0.0 in labels with no predicted samples. Use `zero_division` parameter to control this behavior.\n",
      "  _warn_prf(average, modifier, msg_start, len(result))\n"
     ]
    },
    {
     "name": "stdout",
     "output_type": "stream",
     "text": [
      "ENSGT00550000074455\n",
      "ENSGT00550000074459\n",
      "ENSGT00550000074464\n"
     ]
    },
    {
     "name": "stderr",
     "output_type": "stream",
     "text": [
      "/usr/local/lib/python3.6/dist-packages/sklearn/metrics/_classification.py:1221: UndefinedMetricWarning: Precision and F-score are ill-defined and being set to 0.0 in labels with no predicted samples. Use `zero_division` parameter to control this behavior.\n",
      "  _warn_prf(average, modifier, msg_start, len(result))\n",
      "/usr/local/lib/python3.6/dist-packages/sklearn/metrics/_classification.py:1221: UndefinedMetricWarning: Recall and F-score are ill-defined and being set to 0.0 in labels with no true samples. Use `zero_division` parameter to control this behavior.\n",
      "  _warn_prf(average, modifier, msg_start, len(result))\n",
      "/usr/local/lib/python3.6/dist-packages/sklearn/metrics/_classification.py:1221: UndefinedMetricWarning: Precision and F-score are ill-defined and being set to 0.0 in labels with no predicted samples. Use `zero_division` parameter to control this behavior.\n",
      "  _warn_prf(average, modifier, msg_start, len(result))\n"
     ]
    },
    {
     "name": "stdout",
     "output_type": "stream",
     "text": [
      "ENSGT00550000074473\n",
      "ENSGT00550000074494\n",
      "ENSGT00550000074503\n"
     ]
    },
    {
     "name": "stderr",
     "output_type": "stream",
     "text": [
      "/usr/local/lib/python3.6/dist-packages/sklearn/metrics/_classification.py:1221: UndefinedMetricWarning: Precision and F-score are ill-defined and being set to 0.0 in labels with no predicted samples. Use `zero_division` parameter to control this behavior.\n",
      "  _warn_prf(average, modifier, msg_start, len(result))\n",
      "/usr/local/lib/python3.6/dist-packages/sklearn/metrics/_classification.py:1221: UndefinedMetricWarning: Precision and F-score are ill-defined and being set to 0.0 in labels with no predicted samples. Use `zero_division` parameter to control this behavior.\n",
      "  _warn_prf(average, modifier, msg_start, len(result))\n",
      "/usr/local/lib/python3.6/dist-packages/sklearn/metrics/_classification.py:1221: UndefinedMetricWarning: Recall and F-score are ill-defined and being set to 0.0 in labels with no true samples. Use `zero_division` parameter to control this behavior.\n",
      "  _warn_prf(average, modifier, msg_start, len(result))\n"
     ]
    },
    {
     "name": "stdout",
     "output_type": "stream",
     "text": [
      "ENSGT00550000074508\n",
      "ENSGT00550000074515\n",
      "ENSGT00550000074530\n"
     ]
    },
    {
     "name": "stderr",
     "output_type": "stream",
     "text": [
      "/usr/local/lib/python3.6/dist-packages/sklearn/metrics/_classification.py:1221: UndefinedMetricWarning: Precision and F-score are ill-defined and being set to 0.0 in labels with no predicted samples. Use `zero_division` parameter to control this behavior.\n",
      "  _warn_prf(average, modifier, msg_start, len(result))\n",
      "/usr/local/lib/python3.6/dist-packages/sklearn/metrics/_classification.py:1221: UndefinedMetricWarning: Recall and F-score are ill-defined and being set to 0.0 in labels with no true samples. Use `zero_division` parameter to control this behavior.\n",
      "  _warn_prf(average, modifier, msg_start, len(result))\n",
      "/usr/local/lib/python3.6/dist-packages/sklearn/metrics/_classification.py:1221: UndefinedMetricWarning: Precision and F-score are ill-defined and being set to 0.0 in labels with no predicted samples. Use `zero_division` parameter to control this behavior.\n",
      "  _warn_prf(average, modifier, msg_start, len(result))\n",
      "/usr/local/lib/python3.6/dist-packages/sklearn/metrics/_classification.py:1221: UndefinedMetricWarning: Recall and F-score are ill-defined and being set to 0.0 in labels with no true samples. Use `zero_division` parameter to control this behavior.\n",
      "  _warn_prf(average, modifier, msg_start, len(result))\n"
     ]
    },
    {
     "name": "stdout",
     "output_type": "stream",
     "text": [
      "ENSGT00550000074567\n",
      "ENSGT00550000074580\n",
      "ENSGT00550000074659\n"
     ]
    },
    {
     "name": "stderr",
     "output_type": "stream",
     "text": [
      "/usr/local/lib/python3.6/dist-packages/sklearn/metrics/_classification.py:1221: UndefinedMetricWarning: Precision and F-score are ill-defined and being set to 0.0 in labels with no predicted samples. Use `zero_division` parameter to control this behavior.\n",
      "  _warn_prf(average, modifier, msg_start, len(result))\n"
     ]
    },
    {
     "name": "stdout",
     "output_type": "stream",
     "text": [
      "ENSGT00550000074669\n",
      "ENSGT00570000079623\n",
      "ENSGT00580000081366\n",
      "ENSGT00650000092997\n",
      "ENSGT00650000093238\n",
      "ENSGT00700000104103\n",
      "ENSGT00730000110228\n"
     ]
    },
    {
     "name": "stderr",
     "output_type": "stream",
     "text": [
      "/usr/local/lib/python3.6/dist-packages/sklearn/metrics/_classification.py:1221: UndefinedMetricWarning: Recall and F-score are ill-defined and being set to 0.0 in labels with no true samples. Use `zero_division` parameter to control this behavior.\n",
      "  _warn_prf(average, modifier, msg_start, len(result))\n"
     ]
    },
    {
     "name": "stdout",
     "output_type": "stream",
     "text": [
      "ENSGT00730000110355\n",
      "ENSGT00730000110500\n",
      "ENSGT00730000110541\n",
      "ENSGT00730000110670\n",
      "ENSGT00730000110762\n",
      "ENSGT00740000114929\n",
      "ENSGT00740000115096\n",
      "ENSGT00740000115520\n",
      "ENSGT00760000118803\n",
      "ENSGT00760000118813\n"
     ]
    },
    {
     "name": "stderr",
     "output_type": "stream",
     "text": [
      "/usr/local/lib/python3.6/dist-packages/sklearn/metrics/_classification.py:1221: UndefinedMetricWarning: Precision and F-score are ill-defined and being set to 0.0 in labels with no predicted samples. Use `zero_division` parameter to control this behavior.\n",
      "  _warn_prf(average, modifier, msg_start, len(result))\n",
      "/usr/local/lib/python3.6/dist-packages/sklearn/metrics/_classification.py:1221: UndefinedMetricWarning: Precision and F-score are ill-defined and being set to 0.0 in labels with no predicted samples. Use `zero_division` parameter to control this behavior.\n",
      "  _warn_prf(average, modifier, msg_start, len(result))\n",
      "/usr/local/lib/python3.6/dist-packages/sklearn/metrics/_classification.py:1221: UndefinedMetricWarning: Precision and F-score are ill-defined and being set to 0.0 in labels with no predicted samples. Use `zero_division` parameter to control this behavior.\n",
      "  _warn_prf(average, modifier, msg_start, len(result))\n"
     ]
    },
    {
     "name": "stdout",
     "output_type": "stream",
     "text": [
      "ENSGT00760000118819\n",
      "ENSGT00760000118825\n",
      "ENSGT00760000118842\n",
      "ENSGT00760000118846\n"
     ]
    },
    {
     "name": "stderr",
     "output_type": "stream",
     "text": [
      "/usr/local/lib/python3.6/dist-packages/sklearn/metrics/_classification.py:1221: UndefinedMetricWarning: Precision and F-score are ill-defined and being set to 0.0 in labels with no predicted samples. Use `zero_division` parameter to control this behavior.\n",
      "  _warn_prf(average, modifier, msg_start, len(result))\n",
      "/usr/local/lib/python3.6/dist-packages/sklearn/metrics/_classification.py:1221: UndefinedMetricWarning: Precision and F-score are ill-defined and being set to 0.0 in labels with no predicted samples. Use `zero_division` parameter to control this behavior.\n",
      "  _warn_prf(average, modifier, msg_start, len(result))\n",
      "/usr/local/lib/python3.6/dist-packages/sklearn/metrics/_classification.py:1221: UndefinedMetricWarning: Precision and F-score are ill-defined and being set to 0.0 in labels with no predicted samples. Use `zero_division` parameter to control this behavior.\n",
      "  _warn_prf(average, modifier, msg_start, len(result))\n",
      "/usr/local/lib/python3.6/dist-packages/sklearn/metrics/_classification.py:1221: UndefinedMetricWarning: Recall and F-score are ill-defined and being set to 0.0 in labels with no true samples. Use `zero_division` parameter to control this behavior.\n",
      "  _warn_prf(average, modifier, msg_start, len(result))\n"
     ]
    },
    {
     "name": "stdout",
     "output_type": "stream",
     "text": [
      "ENSGT00760000118851\n",
      "ENSGT00760000118859\n",
      "ENSGT00760000118866\n"
     ]
    },
    {
     "name": "stderr",
     "output_type": "stream",
     "text": [
      "/usr/local/lib/python3.6/dist-packages/sklearn/metrics/_classification.py:1221: UndefinedMetricWarning: Precision and F-score are ill-defined and being set to 0.0 in labels with no predicted samples. Use `zero_division` parameter to control this behavior.\n",
      "  _warn_prf(average, modifier, msg_start, len(result))\n"
     ]
    },
    {
     "name": "stdout",
     "output_type": "stream",
     "text": [
      "ENSGT00760000118877\n",
      "ENSGT00760000118884\n",
      "ENSGT00760000118907\n",
      "ENSGT00760000118910\n",
      "ENSGT00760000118938\n"
     ]
    },
    {
     "name": "stderr",
     "output_type": "stream",
     "text": [
      "/usr/local/lib/python3.6/dist-packages/sklearn/metrics/_classification.py:1221: UndefinedMetricWarning: Precision and F-score are ill-defined and being set to 0.0 in labels with no predicted samples. Use `zero_division` parameter to control this behavior.\n",
      "  _warn_prf(average, modifier, msg_start, len(result))\n",
      "/usr/local/lib/python3.6/dist-packages/sklearn/metrics/_classification.py:1221: UndefinedMetricWarning: Precision and F-score are ill-defined and being set to 0.0 in labels with no predicted samples. Use `zero_division` parameter to control this behavior.\n",
      "  _warn_prf(average, modifier, msg_start, len(result))\n"
     ]
    },
    {
     "name": "stdout",
     "output_type": "stream",
     "text": [
      "ENSGT00760000118940\n",
      "ENSGT00760000118944\n",
      "ENSGT00760000118947\n",
      "ENSGT00760000118948\n"
     ]
    },
    {
     "name": "stderr",
     "output_type": "stream",
     "text": [
      "/usr/local/lib/python3.6/dist-packages/sklearn/metrics/_classification.py:1221: UndefinedMetricWarning: Precision and F-score are ill-defined and being set to 0.0 in labels with no predicted samples. Use `zero_division` parameter to control this behavior.\n",
      "  _warn_prf(average, modifier, msg_start, len(result))\n"
     ]
    },
    {
     "name": "stdout",
     "output_type": "stream",
     "text": [
      "ENSGT00760000118968\n",
      "ENSGT00760000118973\n",
      "ENSGT00760000118975\n",
      "ENSGT00760000118991\n"
     ]
    },
    {
     "name": "stderr",
     "output_type": "stream",
     "text": [
      "/usr/local/lib/python3.6/dist-packages/sklearn/metrics/_classification.py:1221: UndefinedMetricWarning: Precision and F-score are ill-defined and being set to 0.0 in labels with no predicted samples. Use `zero_division` parameter to control this behavior.\n",
      "  _warn_prf(average, modifier, msg_start, len(result))\n",
      "/usr/local/lib/python3.6/dist-packages/sklearn/metrics/_classification.py:1221: UndefinedMetricWarning: Precision and F-score are ill-defined and being set to 0.0 in labels with no predicted samples. Use `zero_division` parameter to control this behavior.\n",
      "  _warn_prf(average, modifier, msg_start, len(result))\n"
     ]
    },
    {
     "name": "stdout",
     "output_type": "stream",
     "text": [
      "ENSGT00760000119014\n",
      "ENSGT00760000119032\n",
      "ENSGT00760000119063\n",
      "ENSGT00760000119073\n",
      "ENSGT00760000119102\n",
      "ENSGT00760000119106\n",
      "ENSGT00760000119109\n",
      "ENSGT00760000119112\n",
      "ENSGT00760000119125\n",
      "ENSGT00760000119127\n"
     ]
    },
    {
     "name": "stderr",
     "output_type": "stream",
     "text": [
      "/usr/local/lib/python3.6/dist-packages/sklearn/metrics/_classification.py:1221: UndefinedMetricWarning: Precision and F-score are ill-defined and being set to 0.0 in labels with no predicted samples. Use `zero_division` parameter to control this behavior.\n",
      "  _warn_prf(average, modifier, msg_start, len(result))\n",
      "/usr/local/lib/python3.6/dist-packages/sklearn/metrics/_classification.py:1221: UndefinedMetricWarning: Recall and F-score are ill-defined and being set to 0.0 in labels with no true samples. Use `zero_division` parameter to control this behavior.\n",
      "  _warn_prf(average, modifier, msg_start, len(result))\n"
     ]
    },
    {
     "name": "stdout",
     "output_type": "stream",
     "text": [
      "ENSGT00760000119134\n"
     ]
    },
    {
     "name": "stderr",
     "output_type": "stream",
     "text": [
      "/usr/local/lib/python3.6/dist-packages/sklearn/metrics/_classification.py:1221: UndefinedMetricWarning: Precision and F-score are ill-defined and being set to 0.0 in labels with no predicted samples. Use `zero_division` parameter to control this behavior.\n",
      "  _warn_prf(average, modifier, msg_start, len(result))\n"
     ]
    },
    {
     "name": "stdout",
     "output_type": "stream",
     "text": [
      "ENSGT00760000119144\n",
      "ENSGT00760000119155\n"
     ]
    },
    {
     "name": "stderr",
     "output_type": "stream",
     "text": [
      "/usr/local/lib/python3.6/dist-packages/sklearn/metrics/_classification.py:1221: UndefinedMetricWarning: Precision and F-score are ill-defined and being set to 0.0 in labels with no predicted samples. Use `zero_division` parameter to control this behavior.\n",
      "  _warn_prf(average, modifier, msg_start, len(result))\n",
      "/usr/local/lib/python3.6/dist-packages/sklearn/metrics/_classification.py:1221: UndefinedMetricWarning: Precision and F-score are ill-defined and being set to 0.0 in labels with no predicted samples. Use `zero_division` parameter to control this behavior.\n",
      "  _warn_prf(average, modifier, msg_start, len(result))\n",
      "/usr/local/lib/python3.6/dist-packages/sklearn/metrics/_classification.py:1221: UndefinedMetricWarning: Recall and F-score are ill-defined and being set to 0.0 in labels with no true samples. Use `zero_division` parameter to control this behavior.\n",
      "  _warn_prf(average, modifier, msg_start, len(result))\n"
     ]
    },
    {
     "name": "stdout",
     "output_type": "stream",
     "text": [
      "ENSGT00760000119221\n",
      "ENSGT00760000119235\n",
      "ENSGT00760000119236\n",
      "ENSGT00780000121909\n",
      "ENSGT00790000123065\n",
      "ENSGT00790000123098\n"
     ]
    },
    {
     "name": "stderr",
     "output_type": "stream",
     "text": [
      "/usr/local/lib/python3.6/dist-packages/sklearn/metrics/_classification.py:1221: UndefinedMetricWarning: Precision and F-score are ill-defined and being set to 0.0 in labels with no predicted samples. Use `zero_division` parameter to control this behavior.\n",
      "  _warn_prf(average, modifier, msg_start, len(result))\n",
      "/usr/local/lib/python3.6/dist-packages/sklearn/metrics/_classification.py:1221: UndefinedMetricWarning: Precision and F-score are ill-defined and being set to 0.0 in labels with no predicted samples. Use `zero_division` parameter to control this behavior.\n",
      "  _warn_prf(average, modifier, msg_start, len(result))\n",
      "/usr/local/lib/python3.6/dist-packages/sklearn/metrics/_classification.py:1221: UndefinedMetricWarning: Precision and F-score are ill-defined and being set to 0.0 in labels with no predicted samples. Use `zero_division` parameter to control this behavior.\n",
      "  _warn_prf(average, modifier, msg_start, len(result))\n"
     ]
    },
    {
     "name": "stdout",
     "output_type": "stream",
     "text": [
      "ENSGT00810000125363\n",
      "ENSGT00810000125384\n",
      "ENSGT00810000125492\n"
     ]
    },
    {
     "name": "stderr",
     "output_type": "stream",
     "text": [
      "/usr/local/lib/python3.6/dist-packages/sklearn/metrics/_classification.py:1221: UndefinedMetricWarning: Precision and F-score are ill-defined and being set to 0.0 in labels with no predicted samples. Use `zero_division` parameter to control this behavior.\n",
      "  _warn_prf(average, modifier, msg_start, len(result))\n",
      "/usr/local/lib/python3.6/dist-packages/sklearn/metrics/_classification.py:1221: UndefinedMetricWarning: Recall and F-score are ill-defined and being set to 0.0 in labels with no true samples. Use `zero_division` parameter to control this behavior.\n",
      "  _warn_prf(average, modifier, msg_start, len(result))\n",
      "/usr/local/lib/python3.6/dist-packages/sklearn/metrics/_classification.py:1221: UndefinedMetricWarning: Precision and F-score are ill-defined and being set to 0.0 in labels with no predicted samples. Use `zero_division` parameter to control this behavior.\n",
      "  _warn_prf(average, modifier, msg_start, len(result))\n"
     ]
    },
    {
     "name": "stdout",
     "output_type": "stream",
     "text": [
      "ENSGT00820000126999\n",
      "ENSGT00830000128242\n",
      "ENSGT00860000133696\n",
      "ENSGT00860000133698\n",
      "ENSGT00870000136388\n",
      "ENSGT00870000136413\n"
     ]
    },
    {
     "name": "stderr",
     "output_type": "stream",
     "text": [
      "/usr/local/lib/python3.6/dist-packages/sklearn/metrics/_classification.py:1221: UndefinedMetricWarning: Precision and F-score are ill-defined and being set to 0.0 in labels with no predicted samples. Use `zero_division` parameter to control this behavior.\n",
      "  _warn_prf(average, modifier, msg_start, len(result))\n"
     ]
    },
    {
     "name": "stdout",
     "output_type": "stream",
     "text": [
      "ENSGT00870000136483\n",
      "ENSGT00870000136531\n"
     ]
    },
    {
     "name": "stderr",
     "output_type": "stream",
     "text": [
      "/usr/local/lib/python3.6/dist-packages/sklearn/metrics/_classification.py:1221: UndefinedMetricWarning: Precision and F-score are ill-defined and being set to 0.0 in labels with no predicted samples. Use `zero_division` parameter to control this behavior.\n",
      "  _warn_prf(average, modifier, msg_start, len(result))\n",
      "/usr/local/lib/python3.6/dist-packages/sklearn/metrics/_classification.py:1221: UndefinedMetricWarning: Recall and F-score are ill-defined and being set to 0.0 in labels with no true samples. Use `zero_division` parameter to control this behavior.\n",
      "  _warn_prf(average, modifier, msg_start, len(result))\n",
      "/usr/local/lib/python3.6/dist-packages/sklearn/metrics/_classification.py:1221: UndefinedMetricWarning: Precision and F-score are ill-defined and being set to 0.0 in labels with no predicted samples. Use `zero_division` parameter to control this behavior.\n",
      "  _warn_prf(average, modifier, msg_start, len(result))\n",
      "/usr/local/lib/python3.6/dist-packages/sklearn/metrics/_classification.py:1221: UndefinedMetricWarning: Recall and F-score are ill-defined and being set to 0.0 in labels with no true samples. Use `zero_division` parameter to control this behavior.\n",
      "  _warn_prf(average, modifier, msg_start, len(result))\n",
      "/usr/local/lib/python3.6/dist-packages/sklearn/metrics/_classification.py:1221: UndefinedMetricWarning: Precision and F-score are ill-defined and being set to 0.0 in labels with no predicted samples. Use `zero_division` parameter to control this behavior.\n",
      "  _warn_prf(average, modifier, msg_start, len(result))\n",
      "/usr/local/lib/python3.6/dist-packages/sklearn/metrics/_classification.py:1221: UndefinedMetricWarning: Recall and F-score are ill-defined and being set to 0.0 in labels with no true samples. Use `zero_division` parameter to control this behavior.\n",
      "  _warn_prf(average, modifier, msg_start, len(result))\n"
     ]
    },
    {
     "name": "stdout",
     "output_type": "stream",
     "text": [
      "ENSGT00870000136533\n",
      "ENSGT00880000137858\n",
      "ENSGT00880000137904\n"
     ]
    },
    {
     "name": "stderr",
     "output_type": "stream",
     "text": [
      "/usr/local/lib/python3.6/dist-packages/sklearn/metrics/_classification.py:1221: UndefinedMetricWarning: Precision and F-score are ill-defined and being set to 0.0 in labels with no predicted samples. Use `zero_division` parameter to control this behavior.\n",
      "  _warn_prf(average, modifier, msg_start, len(result))\n",
      "/usr/local/lib/python3.6/dist-packages/sklearn/metrics/_classification.py:1221: UndefinedMetricWarning: Recall and F-score are ill-defined and being set to 0.0 in labels with no true samples. Use `zero_division` parameter to control this behavior.\n",
      "  _warn_prf(average, modifier, msg_start, len(result))\n"
     ]
    },
    {
     "name": "stdout",
     "output_type": "stream",
     "text": [
      "ENSGT00890000139323\n",
      "ENSGT00890000139330\n",
      "ENSGT00890000139334\n",
      "ENSGT00890000139341\n",
      "ENSGT00890000139343\n",
      "ENSGT00890000139375\n",
      "ENSGT00900000140776\n",
      "ENSGT00900000140778\n",
      "ENSGT00900000140780\n",
      "ENSGT00900000140781\n"
     ]
    },
    {
     "name": "stderr",
     "output_type": "stream",
     "text": [
      "/usr/local/lib/python3.6/dist-packages/sklearn/metrics/_classification.py:1221: UndefinedMetricWarning: Precision and F-score are ill-defined and being set to 0.0 in labels with no predicted samples. Use `zero_division` parameter to control this behavior.\n",
      "  _warn_prf(average, modifier, msg_start, len(result))\n"
     ]
    },
    {
     "name": "stdout",
     "output_type": "stream",
     "text": [
      "ENSGT00900000140785\n",
      "ENSGT00900000140793\n",
      "ENSGT00900000140794\n"
     ]
    },
    {
     "name": "stderr",
     "output_type": "stream",
     "text": [
      "/usr/local/lib/python3.6/dist-packages/sklearn/metrics/_classification.py:1221: UndefinedMetricWarning: Precision and F-score are ill-defined and being set to 0.0 in labels with no predicted samples. Use `zero_division` parameter to control this behavior.\n",
      "  _warn_prf(average, modifier, msg_start, len(result))\n",
      "/usr/local/lib/python3.6/dist-packages/sklearn/metrics/_classification.py:1221: UndefinedMetricWarning: Recall and F-score are ill-defined and being set to 0.0 in labels with no true samples. Use `zero_division` parameter to control this behavior.\n",
      "  _warn_prf(average, modifier, msg_start, len(result))\n"
     ]
    },
    {
     "name": "stdout",
     "output_type": "stream",
     "text": [
      "ENSGT00900000140800\n",
      "ENSGT00900000140811\n"
     ]
    },
    {
     "name": "stderr",
     "output_type": "stream",
     "text": [
      "/usr/local/lib/python3.6/dist-packages/sklearn/metrics/_classification.py:1221: UndefinedMetricWarning: Precision and F-score are ill-defined and being set to 0.0 in labels with no predicted samples. Use `zero_division` parameter to control this behavior.\n",
      "  _warn_prf(average, modifier, msg_start, len(result))\n",
      "/usr/local/lib/python3.6/dist-packages/sklearn/metrics/_classification.py:1221: UndefinedMetricWarning: Recall and F-score are ill-defined and being set to 0.0 in labels with no true samples. Use `zero_division` parameter to control this behavior.\n",
      "  _warn_prf(average, modifier, msg_start, len(result))\n",
      "/usr/local/lib/python3.6/dist-packages/sklearn/metrics/_classification.py:1221: UndefinedMetricWarning: Precision and F-score are ill-defined and being set to 0.0 in labels with no predicted samples. Use `zero_division` parameter to control this behavior.\n",
      "  _warn_prf(average, modifier, msg_start, len(result))\n",
      "/usr/local/lib/python3.6/dist-packages/sklearn/metrics/_classification.py:1221: UndefinedMetricWarning: Precision and F-score are ill-defined and being set to 0.0 in labels with no predicted samples. Use `zero_division` parameter to control this behavior.\n",
      "  _warn_prf(average, modifier, msg_start, len(result))\n"
     ]
    },
    {
     "name": "stdout",
     "output_type": "stream",
     "text": [
      "ENSGT00900000140822\n",
      "ENSGT00900000140828\n",
      "ENSGT00900000140835\n",
      "ENSGT00900000140838\n",
      "ENSGT00900000140840\n"
     ]
    },
    {
     "name": "stderr",
     "output_type": "stream",
     "text": [
      "/usr/local/lib/python3.6/dist-packages/sklearn/metrics/_classification.py:1221: UndefinedMetricWarning: Precision and F-score are ill-defined and being set to 0.0 in labels with no predicted samples. Use `zero_division` parameter to control this behavior.\n",
      "  _warn_prf(average, modifier, msg_start, len(result))\n",
      "/usr/local/lib/python3.6/dist-packages/sklearn/metrics/_classification.py:1221: UndefinedMetricWarning: Precision and F-score are ill-defined and being set to 0.0 in labels with no predicted samples. Use `zero_division` parameter to control this behavior.\n",
      "  _warn_prf(average, modifier, msg_start, len(result))\n",
      "/usr/local/lib/python3.6/dist-packages/sklearn/metrics/_classification.py:1221: UndefinedMetricWarning: Recall and F-score are ill-defined and being set to 0.0 in labels with no true samples. Use `zero_division` parameter to control this behavior.\n",
      "  _warn_prf(average, modifier, msg_start, len(result))\n"
     ]
    },
    {
     "name": "stdout",
     "output_type": "stream",
     "text": [
      "ENSGT00900000140842\n",
      "ENSGT00900000140850\n",
      "ENSGT00900000140881\n"
     ]
    },
    {
     "name": "stderr",
     "output_type": "stream",
     "text": [
      "/usr/local/lib/python3.6/dist-packages/sklearn/metrics/_classification.py:1221: UndefinedMetricWarning: Precision and F-score are ill-defined and being set to 0.0 in labels with no predicted samples. Use `zero_division` parameter to control this behavior.\n",
      "  _warn_prf(average, modifier, msg_start, len(result))\n"
     ]
    },
    {
     "name": "stdout",
     "output_type": "stream",
     "text": [
      "ENSGT00900000140901\n",
      "ENSGT00900000140926\n"
     ]
    },
    {
     "data": {
      "text/html": [
       "<div>\n",
       "<style scoped>\n",
       "    .dataframe tbody tr th:only-of-type {\n",
       "        vertical-align: middle;\n",
       "    }\n",
       "\n",
       "    .dataframe tbody tr th {\n",
       "        vertical-align: top;\n",
       "    }\n",
       "\n",
       "    .dataframe thead th {\n",
       "        text-align: right;\n",
       "    }\n",
       "</style>\n",
       "<table border=\"1\" class=\"dataframe\">\n",
       "  <thead>\n",
       "    <tr style=\"text-align: right;\">\n",
       "      <th></th>\n",
       "      <th>family</th>\n",
       "      <th>Homogeneity</th>\n",
       "      <th>Completeness</th>\n",
       "      <th>V-measure</th>\n",
       "      <th>nb_ref</th>\n",
       "      <th>nb_pred</th>\n",
       "    </tr>\n",
       "  </thead>\n",
       "  <tbody>\n",
       "    <tr>\n",
       "      <th>ENSGT00390000000080</th>\n",
       "      <td>ENSGT00390000000080</td>\n",
       "      <td>1.000000</td>\n",
       "      <td>1.000000</td>\n",
       "      <td>1.000000</td>\n",
       "      <td>3</td>\n",
       "      <td>3</td>\n",
       "    </tr>\n",
       "    <tr>\n",
       "      <th>ENSGT00390000000104</th>\n",
       "      <td>ENSGT00390000000104</td>\n",
       "      <td>1.000000</td>\n",
       "      <td>1.000000</td>\n",
       "      <td>1.000000</td>\n",
       "      <td>3</td>\n",
       "      <td>3</td>\n",
       "    </tr>\n",
       "    <tr>\n",
       "      <th>ENSGT00390000000212</th>\n",
       "      <td>ENSGT00390000000212</td>\n",
       "      <td>1.000000</td>\n",
       "      <td>1.000000</td>\n",
       "      <td>1.000000</td>\n",
       "      <td>7</td>\n",
       "      <td>7</td>\n",
       "    </tr>\n",
       "    <tr>\n",
       "      <th>ENSGT00390000000583</th>\n",
       "      <td>ENSGT00390000000583</td>\n",
       "      <td>0.111111</td>\n",
       "      <td>0.111111</td>\n",
       "      <td>0.111111</td>\n",
       "      <td>2</td>\n",
       "      <td>2</td>\n",
       "    </tr>\n",
       "    <tr>\n",
       "      <th>ENSGT00390000000860</th>\n",
       "      <td>ENSGT00390000000860</td>\n",
       "      <td>0.416667</td>\n",
       "      <td>0.500000</td>\n",
       "      <td>0.450000</td>\n",
       "      <td>3</td>\n",
       "      <td>3</td>\n",
       "    </tr>\n",
       "    <tr>\n",
       "      <th>...</th>\n",
       "      <td>...</td>\n",
       "      <td>...</td>\n",
       "      <td>...</td>\n",
       "      <td>...</td>\n",
       "      <td>...</td>\n",
       "      <td>...</td>\n",
       "    </tr>\n",
       "    <tr>\n",
       "      <th>ENSGT00900000140842</th>\n",
       "      <td>ENSGT00900000140842</td>\n",
       "      <td>1.000000</td>\n",
       "      <td>1.000000</td>\n",
       "      <td>1.000000</td>\n",
       "      <td>3</td>\n",
       "      <td>3</td>\n",
       "    </tr>\n",
       "    <tr>\n",
       "      <th>ENSGT00900000140850</th>\n",
       "      <td>ENSGT00900000140850</td>\n",
       "      <td>1.000000</td>\n",
       "      <td>1.000000</td>\n",
       "      <td>1.000000</td>\n",
       "      <td>2</td>\n",
       "      <td>2</td>\n",
       "    </tr>\n",
       "    <tr>\n",
       "      <th>ENSGT00900000140881</th>\n",
       "      <td>ENSGT00900000140881</td>\n",
       "      <td>0.687500</td>\n",
       "      <td>0.750000</td>\n",
       "      <td>0.714286</td>\n",
       "      <td>4</td>\n",
       "      <td>3</td>\n",
       "    </tr>\n",
       "    <tr>\n",
       "      <th>ENSGT00900000140901</th>\n",
       "      <td>ENSGT00900000140901</td>\n",
       "      <td>1.000000</td>\n",
       "      <td>1.000000</td>\n",
       "      <td>1.000000</td>\n",
       "      <td>2</td>\n",
       "      <td>2</td>\n",
       "    </tr>\n",
       "    <tr>\n",
       "      <th>ENSGT00900000140926</th>\n",
       "      <td>ENSGT00900000140926</td>\n",
       "      <td>1.000000</td>\n",
       "      <td>1.000000</td>\n",
       "      <td>1.000000</td>\n",
       "      <td>4</td>\n",
       "      <td>4</td>\n",
       "    </tr>\n",
       "  </tbody>\n",
       "</table>\n",
       "<p>236 rows × 6 columns</p>\n",
       "</div>"
      ],
      "text/plain": [
       "                                  family  Homogeneity  Completeness  \\\n",
       "ENSGT00390000000080  ENSGT00390000000080     1.000000      1.000000   \n",
       "ENSGT00390000000104  ENSGT00390000000104     1.000000      1.000000   \n",
       "ENSGT00390000000212  ENSGT00390000000212     1.000000      1.000000   \n",
       "ENSGT00390000000583  ENSGT00390000000583     0.111111      0.111111   \n",
       "ENSGT00390000000860  ENSGT00390000000860     0.416667      0.500000   \n",
       "...                                  ...          ...           ...   \n",
       "ENSGT00900000140842  ENSGT00900000140842     1.000000      1.000000   \n",
       "ENSGT00900000140850  ENSGT00900000140850     1.000000      1.000000   \n",
       "ENSGT00900000140881  ENSGT00900000140881     0.687500      0.750000   \n",
       "ENSGT00900000140901  ENSGT00900000140901     1.000000      1.000000   \n",
       "ENSGT00900000140926  ENSGT00900000140926     1.000000      1.000000   \n",
       "\n",
       "                     V-measure nb_ref nb_pred  \n",
       "ENSGT00390000000080   1.000000      3       3  \n",
       "ENSGT00390000000104   1.000000      3       3  \n",
       "ENSGT00390000000212   1.000000      7       7  \n",
       "ENSGT00390000000583   0.111111      2       2  \n",
       "ENSGT00390000000860   0.450000      3       3  \n",
       "...                        ...    ...     ...  \n",
       "ENSGT00900000140842   1.000000      3       3  \n",
       "ENSGT00900000140850   1.000000      2       2  \n",
       "ENSGT00900000140881   0.714286      4       3  \n",
       "ENSGT00900000140901   1.000000      2       2  \n",
       "ENSGT00900000140926   1.000000      4       4  \n",
       "\n",
       "[236 rows x 6 columns]"
      ]
     },
     "execution_count": 44,
     "metadata": {},
     "output_type": "execute_result"
    }
   ],
   "source": [
    "metricdata = tsm_corrigé_Macse_m\n",
    "#result_df = pd.DataFrame(columns=['family','Homogeneity', 'Completeness', 'V-measure'])\n",
    "result_df = pd.DataFrame(columns=['family','Homogeneity', 'Completeness', 'V-measure', 'nb_ref', 'nb_pred'])\n",
    "for tree in trees:\n",
    "    print(tree)\n",
    "    nb_ref = 0\n",
    "    nb_pred = 0\n",
    "    path_tr = './../../results/{}/{}_gtot.csv'.format(tree,tree)\n",
    "    file = pd.read_csv(path_tr, sep=';')\n",
    "    transcripts = [str(_).split('_90')[0] for _ in list(file.id_transcript.values)]\n",
    "    clustering_true = data_true[data_true.id_transcript.isin(transcripts)].sort_values(by=['id_transcript'])\n",
    "    clustering_pred = metricdata[metricdata.id_transcript.isin(transcripts)].sort_values(by=['id_transcript'])\n",
    "    transcripts_sorted = list(clustering_true.id_transcript.values)\n",
    "    nb_ref = len(list(set(clustering_true.group.values)))\n",
    "    nb_pred = len(list(set(clustering_pred.group.values)))\n",
    "    #true_groups = list(set(list(clustering_true.group.values)))\n",
    "    #pred_groups = list(clustering_pred.group.values)\n",
    "    new_clusters_pred = pd.DataFrame(columns=['id_transcript','group'])\n",
    "    new_clusters_true = pd.DataFrame(columns=['id_transcript','group'])\n",
    "    already_done_pred = []\n",
    "    already_done_true = []\n",
    "    #true_clusters = [set(list(clustering_true[clustering_true['group']==_].id_transcript.values)) for _ in true_groups]\n",
    "    #print(len(transcripts_sorted))\n",
    "    for i,transcript in enumerate(transcripts_sorted):\n",
    "        group_true = clustering_true[clustering_true['id_transcript']==transcript].group.values[0]\n",
    "        trs_true_group = list(clustering_true[clustering_true['group']==group_true].id_transcript.values)\n",
    "        for tr_true_group in trs_true_group:\n",
    "            if (tr_true_group not in already_done_true):\n",
    "                new_clusters_true.loc[tr_true_group]=[tr_true_group,i]\n",
    "                already_done_true.append(tr_true_group)\n",
    "        \n",
    "        group_pred = clustering_pred[clustering_pred['id_transcript']==transcript].group.values[0]\n",
    "        trs_pred_group = list(clustering_pred[clustering_pred['group']==group_pred].id_transcript.values)\n",
    "        for tr_pred_group in trs_pred_group:\n",
    "            if(tr_pred_group not in already_done_pred):\n",
    "                new_clusters_pred.loc[tr_pred_group]=[tr_pred_group,i]\n",
    "                already_done_pred.append(tr_pred_group)\n",
    "    y = list(new_clusters_pred.sort_values(by=['id_transcript']).group.values)\n",
    "    x = list(new_clusters_true.sort_values(by=['id_transcript']).group.values)\n",
    "    #print(x)\n",
    "    #print(y)\n",
    "    mesures = precision_recall_fscore_support(x,y, average='macro')\n",
    "    #print(mesures)\n",
    "    result_df.loc[tree] = (tree, mesures[0], mesures[1], mesures[2], nb_ref, nb_pred)\n",
    "result_df\n"
   ]
  },
  {
   "cell_type": "code",
   "execution_count": 45,
   "metadata": {},
   "outputs": [
    {
     "data": {
      "text/html": [
       "<div>\n",
       "<style scoped>\n",
       "    .dataframe tbody tr th:only-of-type {\n",
       "        vertical-align: middle;\n",
       "    }\n",
       "\n",
       "    .dataframe tbody tr th {\n",
       "        vertical-align: top;\n",
       "    }\n",
       "\n",
       "    .dataframe thead th {\n",
       "        text-align: right;\n",
       "    }\n",
       "</style>\n",
       "<table border=\"1\" class=\"dataframe\">\n",
       "  <thead>\n",
       "    <tr style=\"text-align: right;\">\n",
       "      <th></th>\n",
       "      <th>family</th>\n",
       "      <th>Homogeneity</th>\n",
       "      <th>Completeness</th>\n",
       "      <th>V-measure</th>\n",
       "      <th>nb_ref</th>\n",
       "      <th>nb_pred</th>\n",
       "    </tr>\n",
       "  </thead>\n",
       "  <tbody>\n",
       "    <tr>\n",
       "      <th>ENSGT00390000000080</th>\n",
       "      <td>ENSGT00390000000080</td>\n",
       "      <td>1.000000</td>\n",
       "      <td>1.000000</td>\n",
       "      <td>1.000000</td>\n",
       "      <td>3</td>\n",
       "      <td>3</td>\n",
       "    </tr>\n",
       "    <tr>\n",
       "      <th>ENSGT00390000000104</th>\n",
       "      <td>ENSGT00390000000104</td>\n",
       "      <td>1.000000</td>\n",
       "      <td>1.000000</td>\n",
       "      <td>1.000000</td>\n",
       "      <td>3</td>\n",
       "      <td>3</td>\n",
       "    </tr>\n",
       "    <tr>\n",
       "      <th>ENSGT00390000000212</th>\n",
       "      <td>ENSGT00390000000212</td>\n",
       "      <td>1.000000</td>\n",
       "      <td>1.000000</td>\n",
       "      <td>1.000000</td>\n",
       "      <td>7</td>\n",
       "      <td>7</td>\n",
       "    </tr>\n",
       "    <tr>\n",
       "      <th>ENSGT00390000000583</th>\n",
       "      <td>ENSGT00390000000583</td>\n",
       "      <td>0.111111</td>\n",
       "      <td>0.111111</td>\n",
       "      <td>0.111111</td>\n",
       "      <td>2</td>\n",
       "      <td>2</td>\n",
       "    </tr>\n",
       "    <tr>\n",
       "      <th>ENSGT00390000000860</th>\n",
       "      <td>ENSGT00390000000860</td>\n",
       "      <td>0.416667</td>\n",
       "      <td>0.500000</td>\n",
       "      <td>0.450000</td>\n",
       "      <td>3</td>\n",
       "      <td>3</td>\n",
       "    </tr>\n",
       "    <tr>\n",
       "      <th>...</th>\n",
       "      <td>...</td>\n",
       "      <td>...</td>\n",
       "      <td>...</td>\n",
       "      <td>...</td>\n",
       "      <td>...</td>\n",
       "      <td>...</td>\n",
       "    </tr>\n",
       "    <tr>\n",
       "      <th>ENSGT00900000140842</th>\n",
       "      <td>ENSGT00900000140842</td>\n",
       "      <td>1.000000</td>\n",
       "      <td>1.000000</td>\n",
       "      <td>1.000000</td>\n",
       "      <td>3</td>\n",
       "      <td>3</td>\n",
       "    </tr>\n",
       "    <tr>\n",
       "      <th>ENSGT00900000140850</th>\n",
       "      <td>ENSGT00900000140850</td>\n",
       "      <td>1.000000</td>\n",
       "      <td>1.000000</td>\n",
       "      <td>1.000000</td>\n",
       "      <td>2</td>\n",
       "      <td>2</td>\n",
       "    </tr>\n",
       "    <tr>\n",
       "      <th>ENSGT00900000140881</th>\n",
       "      <td>ENSGT00900000140881</td>\n",
       "      <td>0.687500</td>\n",
       "      <td>0.750000</td>\n",
       "      <td>0.714286</td>\n",
       "      <td>4</td>\n",
       "      <td>3</td>\n",
       "    </tr>\n",
       "    <tr>\n",
       "      <th>ENSGT00900000140901</th>\n",
       "      <td>ENSGT00900000140901</td>\n",
       "      <td>1.000000</td>\n",
       "      <td>1.000000</td>\n",
       "      <td>1.000000</td>\n",
       "      <td>2</td>\n",
       "      <td>2</td>\n",
       "    </tr>\n",
       "    <tr>\n",
       "      <th>ENSGT00900000140926</th>\n",
       "      <td>ENSGT00900000140926</td>\n",
       "      <td>1.000000</td>\n",
       "      <td>1.000000</td>\n",
       "      <td>1.000000</td>\n",
       "      <td>4</td>\n",
       "      <td>4</td>\n",
       "    </tr>\n",
       "  </tbody>\n",
       "</table>\n",
       "<p>236 rows × 6 columns</p>\n",
       "</div>"
      ],
      "text/plain": [
       "                                  family  Homogeneity  Completeness  \\\n",
       "ENSGT00390000000080  ENSGT00390000000080     1.000000      1.000000   \n",
       "ENSGT00390000000104  ENSGT00390000000104     1.000000      1.000000   \n",
       "ENSGT00390000000212  ENSGT00390000000212     1.000000      1.000000   \n",
       "ENSGT00390000000583  ENSGT00390000000583     0.111111      0.111111   \n",
       "ENSGT00390000000860  ENSGT00390000000860     0.416667      0.500000   \n",
       "...                                  ...          ...           ...   \n",
       "ENSGT00900000140842  ENSGT00900000140842     1.000000      1.000000   \n",
       "ENSGT00900000140850  ENSGT00900000140850     1.000000      1.000000   \n",
       "ENSGT00900000140881  ENSGT00900000140881     0.687500      0.750000   \n",
       "ENSGT00900000140901  ENSGT00900000140901     1.000000      1.000000   \n",
       "ENSGT00900000140926  ENSGT00900000140926     1.000000      1.000000   \n",
       "\n",
       "                     V-measure nb_ref nb_pred  \n",
       "ENSGT00390000000080   1.000000      3       3  \n",
       "ENSGT00390000000104   1.000000      3       3  \n",
       "ENSGT00390000000212   1.000000      7       7  \n",
       "ENSGT00390000000583   0.111111      2       2  \n",
       "ENSGT00390000000860   0.450000      3       3  \n",
       "...                        ...    ...     ...  \n",
       "ENSGT00900000140842   1.000000      3       3  \n",
       "ENSGT00900000140850   1.000000      2       2  \n",
       "ENSGT00900000140881   0.714286      4       3  \n",
       "ENSGT00900000140901   1.000000      2       2  \n",
       "ENSGT00900000140926   1.000000      4       4  \n",
       "\n",
       "[236 rows x 6 columns]"
      ]
     },
     "execution_count": 45,
     "metadata": {},
     "output_type": "execute_result"
    }
   ],
   "source": [
    "result_df"
   ]
  },
  {
   "cell_type": "code",
   "execution_count": 30,
   "metadata": {},
   "outputs": [],
   "source": [
    "#save clusters\n",
    "result_df.to_csv('./../clustering_per_families/Macse/tsm_corrigé_m', sep=';', header=True, index=False)"
   ]
  },
  {
   "cell_type": "code",
   "execution_count": 39,
   "metadata": {},
   "outputs": [
    {
     "data": {
      "text/html": [
       "<div>\n",
       "<style scoped>\n",
       "    .dataframe tbody tr th:only-of-type {\n",
       "        vertical-align: middle;\n",
       "    }\n",
       "\n",
       "    .dataframe tbody tr th {\n",
       "        vertical-align: top;\n",
       "    }\n",
       "\n",
       "    .dataframe thead th {\n",
       "        text-align: right;\n",
       "    }\n",
       "</style>\n",
       "<table border=\"1\" class=\"dataframe\">\n",
       "  <thead>\n",
       "    <tr style=\"text-align: right;\">\n",
       "      <th></th>\n",
       "      <th>id_transcript</th>\n",
       "      <th>group</th>\n",
       "    </tr>\n",
       "  </thead>\n",
       "  <tbody>\n",
       "    <tr>\n",
       "      <th>1352</th>\n",
       "      <td>ENSCAFT00000011068</td>\n",
       "      <td>627</td>\n",
       "    </tr>\n",
       "    <tr>\n",
       "      <th>1349</th>\n",
       "      <td>ENSMUST00000034012</td>\n",
       "      <td>627</td>\n",
       "    </tr>\n",
       "    <tr>\n",
       "      <th>1350</th>\n",
       "      <td>ENSMUST00000132032</td>\n",
       "      <td>627</td>\n",
       "    </tr>\n",
       "    <tr>\n",
       "      <th>1353</th>\n",
       "      <td>ENSMUST00000135269</td>\n",
       "      <td>628</td>\n",
       "    </tr>\n",
       "    <tr>\n",
       "      <th>1351</th>\n",
       "      <td>ENSMUST00000149992</td>\n",
       "      <td>627</td>\n",
       "    </tr>\n",
       "    <tr>\n",
       "      <th>1348</th>\n",
       "      <td>ENST00000361272</td>\n",
       "      <td>627</td>\n",
       "    </tr>\n",
       "    <tr>\n",
       "      <th>1347</th>\n",
       "      <td>ENST00000523917</td>\n",
       "      <td>626</td>\n",
       "    </tr>\n",
       "  </tbody>\n",
       "</table>\n",
       "</div>"
      ],
      "text/plain": [
       "           id_transcript  group\n",
       "1352  ENSCAFT00000011068    627\n",
       "1349  ENSMUST00000034012    627\n",
       "1350  ENSMUST00000132032    627\n",
       "1353  ENSMUST00000135269    628\n",
       "1351  ENSMUST00000149992    627\n",
       "1348     ENST00000361272    627\n",
       "1347     ENST00000523917    626"
      ]
     },
     "execution_count": 39,
     "metadata": {},
     "output_type": "execute_result"
    }
   ],
   "source": [
    "clustering_true"
   ]
  },
  {
   "cell_type": "code",
   "execution_count": 187,
   "metadata": {},
   "outputs": [
    {
     "data": {
      "text/html": [
       "<div>\n",
       "<style scoped>\n",
       "    .dataframe tbody tr th:only-of-type {\n",
       "        vertical-align: middle;\n",
       "    }\n",
       "\n",
       "    .dataframe tbody tr th {\n",
       "        vertical-align: top;\n",
       "    }\n",
       "\n",
       "    .dataframe thead th {\n",
       "        text-align: right;\n",
       "    }\n",
       "</style>\n",
       "<table border=\"1\" class=\"dataframe\">\n",
       "  <thead>\n",
       "    <tr style=\"text-align: right;\">\n",
       "      <th></th>\n",
       "      <th>family</th>\n",
       "      <th>Homogeneity</th>\n",
       "      <th>Completeness</th>\n",
       "      <th>V-measure</th>\n",
       "    </tr>\n",
       "  </thead>\n",
       "  <tbody>\n",
       "    <tr>\n",
       "      <th>ENSGT00390000000080</th>\n",
       "      <td>ENSGT00390000000080</td>\n",
       "      <td>0.750000</td>\n",
       "      <td>0.600000</td>\n",
       "      <td>0.642857</td>\n",
       "    </tr>\n",
       "    <tr>\n",
       "      <th>ENSGT00390000000104</th>\n",
       "      <td>ENSGT00390000000104</td>\n",
       "      <td>1.000000</td>\n",
       "      <td>1.000000</td>\n",
       "      <td>1.000000</td>\n",
       "    </tr>\n",
       "    <tr>\n",
       "      <th>ENSGT00390000000212</th>\n",
       "      <td>ENSGT00390000000212</td>\n",
       "      <td>1.000000</td>\n",
       "      <td>1.000000</td>\n",
       "      <td>1.000000</td>\n",
       "    </tr>\n",
       "    <tr>\n",
       "      <th>ENSGT00390000000583</th>\n",
       "      <td>ENSGT00390000000583</td>\n",
       "      <td>0.111111</td>\n",
       "      <td>0.111111</td>\n",
       "      <td>0.111111</td>\n",
       "    </tr>\n",
       "    <tr>\n",
       "      <th>ENSGT00390000000860</th>\n",
       "      <td>ENSGT00390000000860</td>\n",
       "      <td>0.500000</td>\n",
       "      <td>0.666667</td>\n",
       "      <td>0.555556</td>\n",
       "    </tr>\n",
       "    <tr>\n",
       "      <th>...</th>\n",
       "      <td>...</td>\n",
       "      <td>...</td>\n",
       "      <td>...</td>\n",
       "      <td>...</td>\n",
       "    </tr>\n",
       "    <tr>\n",
       "      <th>ENSGT00900000140842</th>\n",
       "      <td>ENSGT00900000140842</td>\n",
       "      <td>1.000000</td>\n",
       "      <td>1.000000</td>\n",
       "      <td>1.000000</td>\n",
       "    </tr>\n",
       "    <tr>\n",
       "      <th>ENSGT00900000140850</th>\n",
       "      <td>ENSGT00900000140850</td>\n",
       "      <td>1.000000</td>\n",
       "      <td>1.000000</td>\n",
       "      <td>1.000000</td>\n",
       "    </tr>\n",
       "    <tr>\n",
       "      <th>ENSGT00900000140881</th>\n",
       "      <td>ENSGT00900000140881</td>\n",
       "      <td>0.687500</td>\n",
       "      <td>0.750000</td>\n",
       "      <td>0.714286</td>\n",
       "    </tr>\n",
       "    <tr>\n",
       "      <th>ENSGT00900000140901</th>\n",
       "      <td>ENSGT00900000140901</td>\n",
       "      <td>1.000000</td>\n",
       "      <td>1.000000</td>\n",
       "      <td>1.000000</td>\n",
       "    </tr>\n",
       "    <tr>\n",
       "      <th>ENSGT00900000140926</th>\n",
       "      <td>ENSGT00900000140926</td>\n",
       "      <td>1.000000</td>\n",
       "      <td>1.000000</td>\n",
       "      <td>1.000000</td>\n",
       "    </tr>\n",
       "  </tbody>\n",
       "</table>\n",
       "<p>236 rows × 4 columns</p>\n",
       "</div>"
      ],
      "text/plain": [
       "                                  family  Homogeneity  Completeness  V-measure\n",
       "ENSGT00390000000080  ENSGT00390000000080     0.750000      0.600000   0.642857\n",
       "ENSGT00390000000104  ENSGT00390000000104     1.000000      1.000000   1.000000\n",
       "ENSGT00390000000212  ENSGT00390000000212     1.000000      1.000000   1.000000\n",
       "ENSGT00390000000583  ENSGT00390000000583     0.111111      0.111111   0.111111\n",
       "ENSGT00390000000860  ENSGT00390000000860     0.500000      0.666667   0.555556\n",
       "...                                  ...          ...           ...        ...\n",
       "ENSGT00900000140842  ENSGT00900000140842     1.000000      1.000000   1.000000\n",
       "ENSGT00900000140850  ENSGT00900000140850     1.000000      1.000000   1.000000\n",
       "ENSGT00900000140881  ENSGT00900000140881     0.687500      0.750000   0.714286\n",
       "ENSGT00900000140901  ENSGT00900000140901     1.000000      1.000000   1.000000\n",
       "ENSGT00900000140926  ENSGT00900000140926     1.000000      1.000000   1.000000\n",
       "\n",
       "[236 rows x 4 columns]"
      ]
     },
     "execution_count": 187,
     "metadata": {},
     "output_type": "execute_result"
    }
   ],
   "source": [
    "result_df"
   ]
  },
  {
   "cell_type": "code",
   "execution_count": 195,
   "metadata": {},
   "outputs": [
    {
     "data": {
      "image/png": "[encoded data removed]",
      "text/plain": [
       "<Figure size 1080x432 with 1 Axes>"
      ]
     },
     "metadata": {},
     "output_type": "display_data"
    }
   ],
   "source": [
    "import seaborn as sns\n",
    "from matplotlib import pyplot as plt\n",
    "sns.set_theme(style=\"whitegrid\", font_scale= 2.1)\n",
    "plt.figure(figsize=(15,6))\n",
    "sns.boxplot(data=result_df[['Homogeneity','Completeness','V-measure']], palette=\"colorblind\", width=0.8, fliersize=0.3)\n",
    "plt.savefig('./figure3_.pdf')"
   ]
  },
  {
   "cell_type": "markdown",
   "metadata": {},
   "source": [
    "# import the datasets"
   ]
  },
  {
   "cell_type": "code",
   "execution_count": 17,
   "metadata": {},
   "outputs": [],
   "source": [
    "# import the dataset\n",
    "file = open('./../../macse_253/gt_data_list.txt','r')\n",
    "#file = open('./../../trees.txt', 'r')\n",
    "#trees = [str(_).split('\\n')[0] for _ in file.readlines()]\n",
    "trees = [str(_).split('.csv')[0] for _ in file.readlines()]\n",
    "file.close()\n",
    "# Blanquart & al\n",
    "data_true = pd.read_csv('./blanquart_clusters.csv', sep=';')\n",
    "\n",
    "#tsm\n",
    "### Kalign\n",
    "tsm_Kalign_nucHom = pd.read_csv('./Kalign/tsm_nucHom.csv', sep=';')\n",
    "tsm_Kalign_degHom = pd.read_csv('./Kalign/tsm_degHom.csv', sep=';')\n",
    "tsm_Kalign_m = pd.read_csv('./Kalign/tsm_m.csv', sep=';')\n",
    "### Macse\n",
    "tsm_Macse_nucHom = pd.read_csv('./Macse/tsm_nucHom.csv', sep=';')\n",
    "tsm_Macse_degHom = pd.read_csv('./Macse/tsm_degHom.csv', sep=';')\n",
    "tsm_Macse_m = pd.read_csv('./Macse/tsm_m.csv', sep=';')\n",
    "\n",
    "#tsm corrigé\n",
    "### Kalign\n",
    "tsm_corrigé_Kalign_nucHom = pd.read_csv('./Kalign/tsm_corrigé_nucHom.csv', sep=';')\n",
    "tsm_corrigé_Kalign_degHom = pd.read_csv('./Kalign/tsm_corrigé_degHom.csv', sep=';')\n",
    "tsm_corrigé_Kalign_m = pd.read_csv('./Kalign/tsm_corrigé_m.csv', sep=';')\n",
    "\n",
    "### Macse\n",
    "tsm_corrigé_Macse_nucHom = pd.read_csv('./Macse/tsm_corrigé_nucHom.csv', sep=';')\n",
    "tsm_corrigé_Macse_degHom = pd.read_csv('./Macse/tsm_corrigé_degHom.csv', sep=';')\n",
    "tsm_corrigé_Macse_m = pd.read_csv('./Macse/tsm_corrigé_m.csv', sep=';')\n"
   ]
  },
  {
   "cell_type": "code",
   "execution_count": 13,
   "metadata": {},
   "outputs": [],
   "source": [
    "data_Kalign = [tsm_Kalign_nucHom, tsm_Kalign_degHom, tsm_Kalign_m, tsm_corrigé_Kalign_nucHom, tsm_corrigé_Kalign_degHom, tsm_corrigé_Kalign_m]\n",
    "names_Kalign = ['tsm_Kalign_nucHom', 'tsm_Kalign_degHom', 'tsm_Kalign_m', 'tsm_corrigé_Kalign_nucHom', 'tsm_corrigé_Kalign_degHom', 'tsm_corrigé_Kalign_m']\n",
    "true_labels = list(data_true['group'].values)"
   ]
  },
  {
   "cell_type": "markdown",
   "metadata": {},
   "source": [
    "# Metrics"
   ]
  },
  {
   "cell_type": "code",
   "execution_count": 137,
   "metadata": {},
   "outputs": [
    {
     "data": {
      "text/html": [
       "<div>\n",
       "<style scoped>\n",
       "    .dataframe tbody tr th:only-of-type {\n",
       "        vertical-align: middle;\n",
       "    }\n",
       "\n",
       "    .dataframe tbody tr th {\n",
       "        vertical-align: top;\n",
       "    }\n",
       "\n",
       "    .dataframe thead th {\n",
       "        text-align: right;\n",
       "    }\n",
       "</style>\n",
       "<table border=\"1\" class=\"dataframe\">\n",
       "  <thead>\n",
       "    <tr style=\"text-align: right;\">\n",
       "      <th></th>\n",
       "      <th>methode</th>\n",
       "      <th>metric</th>\n",
       "      <th>value</th>\n",
       "    </tr>\n",
       "  </thead>\n",
       "  <tbody>\n",
       "    <tr>\n",
       "      <th>tsm_Kalign_nucHom0</th>\n",
       "      <td>tsm_Kalign_nucHom</td>\n",
       "      <td>Homogeneity</td>\n",
       "      <td>0.908661</td>\n",
       "    </tr>\n",
       "    <tr>\n",
       "      <th>tsm_Kalign_nucHom1</th>\n",
       "      <td>tsm_Kalign_nucHom</td>\n",
       "      <td>Completeness</td>\n",
       "      <td>0.928568</td>\n",
       "    </tr>\n",
       "    <tr>\n",
       "      <th>tsm_Kalign_nucHom2</th>\n",
       "      <td>tsm_Kalign_nucHom</td>\n",
       "      <td>V-measure</td>\n",
       "      <td>0.918507</td>\n",
       "    </tr>\n",
       "    <tr>\n",
       "      <th>tsm_Kalign_degHom0</th>\n",
       "      <td>tsm_Kalign_degHom</td>\n",
       "      <td>Homogeneity</td>\n",
       "      <td>0.890288</td>\n",
       "    </tr>\n",
       "    <tr>\n",
       "      <th>tsm_Kalign_degHom1</th>\n",
       "      <td>tsm_Kalign_degHom</td>\n",
       "      <td>Completeness</td>\n",
       "      <td>0.933865</td>\n",
       "    </tr>\n",
       "    <tr>\n",
       "      <th>tsm_Kalign_degHom2</th>\n",
       "      <td>tsm_Kalign_degHom</td>\n",
       "      <td>V-measure</td>\n",
       "      <td>0.911556</td>\n",
       "    </tr>\n",
       "    <tr>\n",
       "      <th>tsm_Kalign_m0</th>\n",
       "      <td>tsm_Kalign_m</td>\n",
       "      <td>Homogeneity</td>\n",
       "      <td>0.894596</td>\n",
       "    </tr>\n",
       "    <tr>\n",
       "      <th>tsm_Kalign_m1</th>\n",
       "      <td>tsm_Kalign_m</td>\n",
       "      <td>Completeness</td>\n",
       "      <td>0.932288</td>\n",
       "    </tr>\n",
       "    <tr>\n",
       "      <th>tsm_Kalign_m2</th>\n",
       "      <td>tsm_Kalign_m</td>\n",
       "      <td>V-measure</td>\n",
       "      <td>0.913053</td>\n",
       "    </tr>\n",
       "    <tr>\n",
       "      <th>tsm_corrigé_Kalign_nucHom0</th>\n",
       "      <td>tsm_corrigé_Kalign_nucHom</td>\n",
       "      <td>Homogeneity</td>\n",
       "      <td>0.903962</td>\n",
       "    </tr>\n",
       "    <tr>\n",
       "      <th>tsm_corrigé_Kalign_nucHom1</th>\n",
       "      <td>tsm_corrigé_Kalign_nucHom</td>\n",
       "      <td>Completeness</td>\n",
       "      <td>0.930227</td>\n",
       "    </tr>\n",
       "    <tr>\n",
       "      <th>tsm_corrigé_Kalign_nucHom2</th>\n",
       "      <td>tsm_corrigé_Kalign_nucHom</td>\n",
       "      <td>V-measure</td>\n",
       "      <td>0.916906</td>\n",
       "    </tr>\n",
       "    <tr>\n",
       "      <th>tsm_corrigé_Kalign_degHom0</th>\n",
       "      <td>tsm_corrigé_Kalign_degHom</td>\n",
       "      <td>Homogeneity</td>\n",
       "      <td>0.888313</td>\n",
       "    </tr>\n",
       "    <tr>\n",
       "      <th>tsm_corrigé_Kalign_degHom1</th>\n",
       "      <td>tsm_corrigé_Kalign_degHom</td>\n",
       "      <td>Completeness</td>\n",
       "      <td>0.934938</td>\n",
       "    </tr>\n",
       "    <tr>\n",
       "      <th>tsm_corrigé_Kalign_degHom2</th>\n",
       "      <td>tsm_corrigé_Kalign_degHom</td>\n",
       "      <td>V-measure</td>\n",
       "      <td>0.911029</td>\n",
       "    </tr>\n",
       "    <tr>\n",
       "      <th>tsm_corrigé_Kalign_m0</th>\n",
       "      <td>tsm_corrigé_Kalign_m</td>\n",
       "      <td>Homogeneity</td>\n",
       "      <td>0.901572</td>\n",
       "    </tr>\n",
       "    <tr>\n",
       "      <th>tsm_corrigé_Kalign_m1</th>\n",
       "      <td>tsm_corrigé_Kalign_m</td>\n",
       "      <td>Completeness</td>\n",
       "      <td>0.929342</td>\n",
       "    </tr>\n",
       "    <tr>\n",
       "      <th>tsm_corrigé_Kalign_m2</th>\n",
       "      <td>tsm_corrigé_Kalign_m</td>\n",
       "      <td>V-measure</td>\n",
       "      <td>0.915246</td>\n",
       "    </tr>\n",
       "  </tbody>\n",
       "</table>\n",
       "</div>"
      ],
      "text/plain": [
       "                                              methode        metric     value\n",
       "tsm_Kalign_nucHom0                  tsm_Kalign_nucHom   Homogeneity  0.908661\n",
       "tsm_Kalign_nucHom1                  tsm_Kalign_nucHom  Completeness  0.928568\n",
       "tsm_Kalign_nucHom2                  tsm_Kalign_nucHom     V-measure  0.918507\n",
       "tsm_Kalign_degHom0                  tsm_Kalign_degHom   Homogeneity  0.890288\n",
       "tsm_Kalign_degHom1                  tsm_Kalign_degHom  Completeness  0.933865\n",
       "tsm_Kalign_degHom2                  tsm_Kalign_degHom     V-measure  0.911556\n",
       "tsm_Kalign_m0                            tsm_Kalign_m   Homogeneity  0.894596\n",
       "tsm_Kalign_m1                            tsm_Kalign_m  Completeness  0.932288\n",
       "tsm_Kalign_m2                            tsm_Kalign_m     V-measure  0.913053\n",
       "tsm_corrigé_Kalign_nucHom0  tsm_corrigé_Kalign_nucHom   Homogeneity  0.903962\n",
       "tsm_corrigé_Kalign_nucHom1  tsm_corrigé_Kalign_nucHom  Completeness  0.930227\n",
       "tsm_corrigé_Kalign_nucHom2  tsm_corrigé_Kalign_nucHom     V-measure  0.916906\n",
       "tsm_corrigé_Kalign_degHom0  tsm_corrigé_Kalign_degHom   Homogeneity  0.888313\n",
       "tsm_corrigé_Kalign_degHom1  tsm_corrigé_Kalign_degHom  Completeness  0.934938\n",
       "tsm_corrigé_Kalign_degHom2  tsm_corrigé_Kalign_degHom     V-measure  0.911029\n",
       "tsm_corrigé_Kalign_m0            tsm_corrigé_Kalign_m   Homogeneity  0.901572\n",
       "tsm_corrigé_Kalign_m1            tsm_corrigé_Kalign_m  Completeness  0.929342\n",
       "tsm_corrigé_Kalign_m2            tsm_corrigé_Kalign_m     V-measure  0.915246"
      ]
     },
     "execution_count": 137,
     "metadata": {},
     "output_type": "execute_result"
    }
   ],
   "source": [
    "df_results_metrics_k_align = pd.DataFrame(columns=['methode', 'metric', 'value'])\n",
    "for i,data in enumerate(data_Kalign):\n",
    "    pred_labels = list(data['group'].values)\n",
    "    scores = sk.homogeneity_completeness_v_measure(true_labels, pred_labels)\n",
    "    metrics = list(scores)\n",
    "    for j, metric in enumerate(metrics):\n",
    "        \n",
    "        if j==0:\n",
    "            df_results_metrics_k_align.loc[names_Kalign[i]+str(j)] = [names_Kalign[i], 'Homogeneity', metric]\n",
    "        elif j== 1:\n",
    "            df_results_metrics_k_align.loc[names_Kalign[i]+str(j)] = [names_Kalign[i], 'Completeness', metric]\n",
    "        elif j==2 :\n",
    "            df_results_metrics_k_align.loc[names_Kalign[i]+str(j)] = [names_Kalign[i], 'V-measure', metric]\n",
    "        else:\n",
    "            print('ERROR !!!')\n",
    "df_results_metrics_k_align\n"
   ]
  },
  {
   "cell_type": "code",
   "execution_count": null,
   "metadata": {},
   "outputs": [],
   "source": []
  },
  {
   "cell_type": "markdown",
   "metadata": {},
   "source": [
    "# Plots"
   ]
  },
  {
   "cell_type": "code",
   "execution_count": 136,
   "metadata": {},
   "outputs": [
    {
     "data": {
      "text/plain": [
       "<seaborn.axisgrid.FacetGrid at 0x7f7bcf383ef0>"
      ]
     },
     "execution_count": 136,
     "metadata": {},
     "output_type": "execute_result"
    },
    {
     "data": {
      "image/png": "[encoded data removed]",
      "text/plain": [
       "<Figure size 1389.32x720 with 1 Axes>"
      ]
     },
     "metadata": {},
     "output_type": "display_data"
    }
   ],
   "source": [
    "# by trnascripts\n",
    "sns.set_theme(style=\"whitegrid\", font_scale= 1.7)\n",
    "g = sns.catplot(\n",
    "    data=df_results_metrics_k_align,\n",
    "    x='metric', \n",
    "    y='value', \n",
    "    hue='methode', \n",
    "    palette=\"colorblind\",\n",
    "    kind=\"bar\",\n",
    "    height=10 , aspect=1.5\n",
    "    \n",
    "    \n",
    ")\n",
    "g.despine(left=True)\n",
    "g.set_axis_labels(\"Methods \", \"Values\")"
   ]
  },
  {
   "cell_type": "code",
   "execution_count": 31,
   "metadata": {},
   "outputs": [],
   "source": [
    "# by gene families\n",
    "scores_tsm_Kalign_nucHom = pd.read_csv('./../clustering_per_families/Kalign/tsm_nucHom', sep=';')\n",
    "scores_tsm_Kalign_degHom = pd.read_csv('./../clustering_per_families/Kalign/tsm_degHom', sep=';')\n",
    "scores_tsm_Kalign_m = pd.read_csv('./../clustering_per_families/Kalign/tsm_m', sep=';')\n",
    "### Macse\n",
    "\n",
    "#tsm corrigé\n",
    "### Kalign\n",
    "scores_tsm_corrigé_Kalign_nucHom = pd.read_csv('./../clustering_per_families/Kalign/tsm_corrigé_nucHom', sep=';')\n",
    "scores_tsm_corrigé_Kalign_degHom = pd.read_csv('./../clustering_per_families/Kalign/tsm_corrigé_degHom', sep=';')\n",
    "scores_tsm_corrigé_Kalign_m = pd.read_csv('./../clustering_per_families/Kalign/tsm_corrigé_m', sep=';')\n",
    "\n",
    "#add the method column\n",
    "names_Kalign = ['tsm_Kalign_nucHom', 'tsm_Kalign_degHom', 'tsm_Kalign_m', 'tsm_corrigé_Kalign_nucHom', 'tsm_corrigé_Kalign_degHom', 'tsm_corrigé_Kalign_m']\n",
    "scores_tsm_Kalign_nucHom['method'] = ['tsm+Kalign+unitary' for _ in range(len(scores_tsm_Kalign_nucHom))]\n",
    "scores_tsm_Kalign_degHom['method'] = ['tsm+Kalign+length' for _ in range(len(scores_tsm_Kalign_degHom))]\n",
    "scores_tsm_Kalign_m['method'] = ['tsm+Kalign+mean' for _ in range(len(scores_tsm_Kalign_m))]\n",
    "scores_tsm_corrigé_Kalign_nucHom['method'] = ['tsm++Kalign+unitary' for _ in range(len(scores_tsm_corrigé_Kalign_nucHom))]\n",
    "scores_tsm_corrigé_Kalign_degHom['method'] = ['tsm++Kalign+length' for _ in range(len(scores_tsm_corrigé_Kalign_degHom))]\n",
    "scores_tsm_corrigé_Kalign_m['method'] = ['tsm++Kalign+mean' for _ in range(len(scores_tsm_corrigé_Kalign_m))]"
   ]
  },
  {
   "cell_type": "code",
   "execution_count": 32,
   "metadata": {},
   "outputs": [],
   "source": [
    "# by gene families\n",
    "scores_tsm_Macse_nucHom = pd.read_csv('./../clustering_per_families/Macse/tsm_nucHom', sep=';')\n",
    "scores_tsm_Macse_degHom = pd.read_csv('./../clustering_per_families/Macse/tsm_degHom', sep=';')\n",
    "scores_tsm_Macse_m = pd.read_csv('./../clustering_per_families/Macse/tsm_m', sep=';')\n",
    "### Macse\n",
    "\n",
    "#tsm corrigé\n",
    "### Macse\n",
    "scores_tsm_corrigé_Macse_nucHom = pd.read_csv('./../clustering_per_families/Macse/tsm_corrigé_nucHom', sep=';')\n",
    "scores_tsm_corrigé_Macse_degHom = pd.read_csv('./../clustering_per_families/Macse/tsm_corrigé_degHom', sep=';')\n",
    "scores_tsm_corrigé_Macse_m = pd.read_csv('./../clustering_per_families/Macse/tsm_corrigé_m', sep=';')\n",
    "\n",
    "#add the method column\n",
    "names_Macse = ['tsm_Macse_nucHom', 'tsm_Macse_degHom', 'tsm_Macse_m', 'tsm_corrigé_Macse_nucHom', 'tsm_corrigé_Macse_degHom', 'tsm_corrigé_Macse_m']\n",
    "scores_tsm_Macse_nucHom['method'] = ['tsm+Macse+unitary' for _ in range(len(scores_tsm_Macse_nucHom))]\n",
    "scores_tsm_Macse_degHom['method'] = ['tsm+Macse+length' for _ in range(len(scores_tsm_Macse_degHom))]\n",
    "scores_tsm_Macse_m['method'] = ['tsm+Macse+mean' for _ in range(len(scores_tsm_Macse_m))]\n",
    "scores_tsm_corrigé_Macse_nucHom['method'] = ['tsm++Macse+unitary' for _ in range(len(scores_tsm_corrigé_Macse_nucHom))]\n",
    "scores_tsm_corrigé_Macse_degHom['method'] = ['tsm++Macse+length' for _ in range(len(scores_tsm_corrigé_Macse_degHom))]\n",
    "scores_tsm_corrigé_Macse_m['method'] = ['tsm++Macse+mean' for _ in range(len(scores_tsm_corrigé_Macse_m))]"
   ]
  },
  {
   "cell_type": "code",
   "execution_count": 33,
   "metadata": {},
   "outputs": [],
   "source": [
    "all_scores = pd.concat([\n",
    "    scores_tsm_Kalign_nucHom,\n",
    "    scores_tsm_Kalign_nucHom,\n",
    "    scores_tsm_Kalign_degHom,\n",
    "    scores_tsm_Kalign_m,\n",
    "    scores_tsm_corrigé_Kalign_nucHom,\n",
    "    scores_tsm_corrigé_Kalign_degHom,\n",
    "    scores_tsm_corrigé_Kalign_m,\n",
    "    scores_tsm_Macse_nucHom,\n",
    "    scores_tsm_Macse_nucHom,\n",
    "    scores_tsm_Macse_degHom,\n",
    "    scores_tsm_Macse_m,\n",
    "    scores_tsm_corrigé_Macse_nucHom,\n",
    "    scores_tsm_corrigé_Macse_degHom,\n",
    "    scores_tsm_corrigé_Macse_m], ignore_index=True )"
   ]
  },
  {
   "cell_type": "code",
   "execution_count": 34,
   "metadata": {},
   "outputs": [],
   "source": [
    "df_results_metrics_k_align_box = pd.DataFrame(columns=[\n",
    "    'family', 'methode', 'metrics', 'values'\n",
    "])\n",
    "for i,row in all_scores.iterrows():\n",
    "    homogeneity = row.Homogeneity\n",
    "    completeness = row.Completeness\n",
    "    v_measure = row['V-measure']\n",
    "    method = row.method\n",
    "    family = row.family\n",
    "    df_results_metrics_k_align_box.loc['H'+family+str(i)] = [family, method, 'Homogeneity', homogeneity]\n",
    "    df_results_metrics_k_align_box.loc['c'+family+str(i)] = [family, method, 'Completeness', completeness]\n",
    "    df_results_metrics_k_align_box.loc['v'+family+str(i)] = [family, method, 'V-measure', v_measure]\n"
   ]
  },
  {
   "cell_type": "code",
   "execution_count": 35,
   "metadata": {},
   "outputs": [
    {
     "data": {
      "text/html": [
       "<div>\n",
       "<style scoped>\n",
       "    .dataframe tbody tr th:only-of-type {\n",
       "        vertical-align: middle;\n",
       "    }\n",
       "\n",
       "    .dataframe tbody tr th {\n",
       "        vertical-align: top;\n",
       "    }\n",
       "\n",
       "    .dataframe thead th {\n",
       "        text-align: right;\n",
       "    }\n",
       "</style>\n",
       "<table border=\"1\" class=\"dataframe\">\n",
       "  <thead>\n",
       "    <tr style=\"text-align: right;\">\n",
       "      <th></th>\n",
       "      <th>family</th>\n",
       "      <th>methode</th>\n",
       "      <th>metrics</th>\n",
       "      <th>values</th>\n",
       "    </tr>\n",
       "  </thead>\n",
       "  <tbody>\n",
       "    <tr>\n",
       "      <th>HENSGT003900000000800</th>\n",
       "      <td>ENSGT00390000000080</td>\n",
       "      <td>tsm+Kalign+unitary</td>\n",
       "      <td>Homogeneity</td>\n",
       "      <td>0.750000</td>\n",
       "    </tr>\n",
       "    <tr>\n",
       "      <th>cENSGT003900000000800</th>\n",
       "      <td>ENSGT00390000000080</td>\n",
       "      <td>tsm+Kalign+unitary</td>\n",
       "      <td>Completeness</td>\n",
       "      <td>0.600000</td>\n",
       "    </tr>\n",
       "    <tr>\n",
       "      <th>vENSGT003900000000800</th>\n",
       "      <td>ENSGT00390000000080</td>\n",
       "      <td>tsm+Kalign+unitary</td>\n",
       "      <td>V-measure</td>\n",
       "      <td>0.642857</td>\n",
       "    </tr>\n",
       "    <tr>\n",
       "      <th>HENSGT003900000001041</th>\n",
       "      <td>ENSGT00390000000104</td>\n",
       "      <td>tsm+Kalign+unitary</td>\n",
       "      <td>Homogeneity</td>\n",
       "      <td>1.000000</td>\n",
       "    </tr>\n",
       "    <tr>\n",
       "      <th>cENSGT003900000001041</th>\n",
       "      <td>ENSGT00390000000104</td>\n",
       "      <td>tsm+Kalign+unitary</td>\n",
       "      <td>Completeness</td>\n",
       "      <td>1.000000</td>\n",
       "    </tr>\n",
       "    <tr>\n",
       "      <th>...</th>\n",
       "      <td>...</td>\n",
       "      <td>...</td>\n",
       "      <td>...</td>\n",
       "      <td>...</td>\n",
       "    </tr>\n",
       "    <tr>\n",
       "      <th>cENSGT009000001409013302</th>\n",
       "      <td>ENSGT00900000140901</td>\n",
       "      <td>tsm++Macse+mean</td>\n",
       "      <td>Completeness</td>\n",
       "      <td>1.000000</td>\n",
       "    </tr>\n",
       "    <tr>\n",
       "      <th>vENSGT009000001409013302</th>\n",
       "      <td>ENSGT00900000140901</td>\n",
       "      <td>tsm++Macse+mean</td>\n",
       "      <td>V-measure</td>\n",
       "      <td>1.000000</td>\n",
       "    </tr>\n",
       "    <tr>\n",
       "      <th>HENSGT009000001409263303</th>\n",
       "      <td>ENSGT00900000140926</td>\n",
       "      <td>tsm++Macse+mean</td>\n",
       "      <td>Homogeneity</td>\n",
       "      <td>1.000000</td>\n",
       "    </tr>\n",
       "    <tr>\n",
       "      <th>cENSGT009000001409263303</th>\n",
       "      <td>ENSGT00900000140926</td>\n",
       "      <td>tsm++Macse+mean</td>\n",
       "      <td>Completeness</td>\n",
       "      <td>1.000000</td>\n",
       "    </tr>\n",
       "    <tr>\n",
       "      <th>vENSGT009000001409263303</th>\n",
       "      <td>ENSGT00900000140926</td>\n",
       "      <td>tsm++Macse+mean</td>\n",
       "      <td>V-measure</td>\n",
       "      <td>1.000000</td>\n",
       "    </tr>\n",
       "  </tbody>\n",
       "</table>\n",
       "<p>9912 rows × 4 columns</p>\n",
       "</div>"
      ],
      "text/plain": [
       "                                       family             methode  \\\n",
       "HENSGT003900000000800     ENSGT00390000000080  tsm+Kalign+unitary   \n",
       "cENSGT003900000000800     ENSGT00390000000080  tsm+Kalign+unitary   \n",
       "vENSGT003900000000800     ENSGT00390000000080  tsm+Kalign+unitary   \n",
       "HENSGT003900000001041     ENSGT00390000000104  tsm+Kalign+unitary   \n",
       "cENSGT003900000001041     ENSGT00390000000104  tsm+Kalign+unitary   \n",
       "...                                       ...                 ...   \n",
       "cENSGT009000001409013302  ENSGT00900000140901     tsm++Macse+mean   \n",
       "vENSGT009000001409013302  ENSGT00900000140901     tsm++Macse+mean   \n",
       "HENSGT009000001409263303  ENSGT00900000140926     tsm++Macse+mean   \n",
       "cENSGT009000001409263303  ENSGT00900000140926     tsm++Macse+mean   \n",
       "vENSGT009000001409263303  ENSGT00900000140926     tsm++Macse+mean   \n",
       "\n",
       "                               metrics    values  \n",
       "HENSGT003900000000800      Homogeneity  0.750000  \n",
       "cENSGT003900000000800     Completeness  0.600000  \n",
       "vENSGT003900000000800        V-measure  0.642857  \n",
       "HENSGT003900000001041      Homogeneity  1.000000  \n",
       "cENSGT003900000001041     Completeness  1.000000  \n",
       "...                                ...       ...  \n",
       "cENSGT009000001409013302  Completeness  1.000000  \n",
       "vENSGT009000001409013302     V-measure  1.000000  \n",
       "HENSGT009000001409263303   Homogeneity  1.000000  \n",
       "cENSGT009000001409263303  Completeness  1.000000  \n",
       "vENSGT009000001409263303     V-measure  1.000000  \n",
       "\n",
       "[9912 rows x 4 columns]"
      ]
     },
     "execution_count": 35,
     "metadata": {},
     "output_type": "execute_result"
    }
   ],
   "source": [
    "df_results_metrics_k_align_box"
   ]
  },
  {
   "cell_type": "code",
   "execution_count": 36,
   "metadata": {},
   "outputs": [
    {
     "data": {
      "image/png": "[encoded data removed]",
      "text/plain": [
       "<Figure size 1440x1080 with 1 Axes>"
      ]
     },
     "metadata": {},
     "output_type": "display_data"
    }
   ],
   "source": [
    "from matplotlib import pyplot as plt\n",
    "sns.set_theme(style=\"whitegrid\", font_scale= 3.7)\n",
    "plt.figure(figsize=(20,15))\n",
    "sns.boxplot(\n",
    "    data=df_results_metrics_k_align_box,x='metrics', \n",
    "    y='values', \n",
    "    hue='methode',\n",
    "    palette=\"deep\", width=0.5, fliersize=2.3) \n",
    "#plt.legend(title='This is My Legend Title')\n",
    "plt.legend(bbox_to_anchor=(1.02, 1), loc='upper left', borderaxespad=2)\n",
    "plt.savefig('./comparisons_boxplots_12.pdf')"
   ]
  },
  {
   "cell_type": "code",
   "execution_count": 37,
   "metadata": {},
   "outputs": [],
   "source": [
    "x = df_results_metrics_k_align_box[df_results_metrics_k_align_box['methode']=='tsm++Macse+mean']"
   ]
  },
  {
   "cell_type": "code",
   "execution_count": 38,
   "metadata": {},
   "outputs": [
    {
     "data": {
      "text/plain": [
       "HENSGT003900000000803068    1.0\n",
       "cENSGT003900000000803068    1.0\n",
       "vENSGT003900000000803068    1.0\n",
       "HENSGT003900000001043069    1.0\n",
       "cENSGT003900000001043069    1.0\n",
       "                           ... \n",
       "cENSGT009000001409013302    1.0\n",
       "vENSGT009000001409013302    1.0\n",
       "HENSGT009000001409263303    1.0\n",
       "cENSGT009000001409263303    1.0\n",
       "vENSGT009000001409263303    1.0\n",
       "Name: values, Length: 708, dtype: float64"
      ]
     },
     "execution_count": 38,
     "metadata": {},
     "output_type": "execute_result"
    }
   ],
   "source": [
    "x['values']"
   ]
  },
  {
   "cell_type": "code",
   "execution_count": 39,
   "metadata": {},
   "outputs": [
    {
     "data": {
      "text/plain": [
       "<matplotlib.axes._subplots.AxesSubplot at 0x7f9831f24d30>"
      ]
     },
     "execution_count": 39,
     "metadata": {},
     "output_type": "execute_result"
    },
    {
     "data": {
      "image/png": "[encoded data removed]",
      "text/plain": [
       "<Figure size 432x288 with 1 Axes>"
      ]
     },
     "metadata": {},
     "output_type": "display_data"
    }
   ],
   "source": [
    "sns.boxplot(\n",
    "    data=x['values'],\n",
    "    palette=\"deep\", width=0.5, fliersize=2.3) "
   ]
  },
  {
   "cell_type": "code",
   "execution_count": 54,
   "metadata": {},
   "outputs": [],
   "source": [
    "tmp = scores_tsm_corrigé_Macse_nucHom[(scores_tsm_corrigé_Macse_nucHom.Homogeneity==1) & (scores_tsm_corrigé_Macse_nucHom.Completeness==1) & (scores_tsm_corrigé_Macse_nucHom['V-measure']==1)]"
   ]
  },
  {
   "cell_type": "code",
   "execution_count": 55,
   "metadata": {},
   "outputs": [
    {
     "data": {
      "text/html": [
       "<div>\n",
       "<style scoped>\n",
       "    .dataframe tbody tr th:only-of-type {\n",
       "        vertical-align: middle;\n",
       "    }\n",
       "\n",
       "    .dataframe tbody tr th {\n",
       "        vertical-align: top;\n",
       "    }\n",
       "\n",
       "    .dataframe thead th {\n",
       "        text-align: right;\n",
       "    }\n",
       "</style>\n",
       "<table border=\"1\" class=\"dataframe\">\n",
       "  <thead>\n",
       "    <tr style=\"text-align: right;\">\n",
       "      <th></th>\n",
       "      <th>family</th>\n",
       "      <th>Homogeneity</th>\n",
       "      <th>Completeness</th>\n",
       "      <th>V-measure</th>\n",
       "      <th>method</th>\n",
       "    </tr>\n",
       "  </thead>\n",
       "  <tbody>\n",
       "    <tr>\n",
       "      <th>0</th>\n",
       "      <td>ENSGT00390000000080</td>\n",
       "      <td>1.0</td>\n",
       "      <td>1.0</td>\n",
       "      <td>1.0</td>\n",
       "      <td>tsm++Macse+unitary</td>\n",
       "    </tr>\n",
       "    <tr>\n",
       "      <th>1</th>\n",
       "      <td>ENSGT00390000000104</td>\n",
       "      <td>1.0</td>\n",
       "      <td>1.0</td>\n",
       "      <td>1.0</td>\n",
       "      <td>tsm++Macse+unitary</td>\n",
       "    </tr>\n",
       "    <tr>\n",
       "      <th>5</th>\n",
       "      <td>ENSGT00390000001038</td>\n",
       "      <td>1.0</td>\n",
       "      <td>1.0</td>\n",
       "      <td>1.0</td>\n",
       "      <td>tsm++Macse+unitary</td>\n",
       "    </tr>\n",
       "    <tr>\n",
       "      <th>7</th>\n",
       "      <td>ENSGT00390000002049</td>\n",
       "      <td>1.0</td>\n",
       "      <td>1.0</td>\n",
       "      <td>1.0</td>\n",
       "      <td>tsm++Macse+unitary</td>\n",
       "    </tr>\n",
       "    <tr>\n",
       "      <th>8</th>\n",
       "      <td>ENSGT00390000002215</td>\n",
       "      <td>1.0</td>\n",
       "      <td>1.0</td>\n",
       "      <td>1.0</td>\n",
       "      <td>tsm++Macse+unitary</td>\n",
       "    </tr>\n",
       "    <tr>\n",
       "      <th>...</th>\n",
       "      <td>...</td>\n",
       "      <td>...</td>\n",
       "      <td>...</td>\n",
       "      <td>...</td>\n",
       "      <td>...</td>\n",
       "    </tr>\n",
       "    <tr>\n",
       "      <th>228</th>\n",
       "      <td>ENSGT00900000140835</td>\n",
       "      <td>1.0</td>\n",
       "      <td>1.0</td>\n",
       "      <td>1.0</td>\n",
       "      <td>tsm++Macse+unitary</td>\n",
       "    </tr>\n",
       "    <tr>\n",
       "      <th>231</th>\n",
       "      <td>ENSGT00900000140842</td>\n",
       "      <td>1.0</td>\n",
       "      <td>1.0</td>\n",
       "      <td>1.0</td>\n",
       "      <td>tsm++Macse+unitary</td>\n",
       "    </tr>\n",
       "    <tr>\n",
       "      <th>232</th>\n",
       "      <td>ENSGT00900000140850</td>\n",
       "      <td>1.0</td>\n",
       "      <td>1.0</td>\n",
       "      <td>1.0</td>\n",
       "      <td>tsm++Macse+unitary</td>\n",
       "    </tr>\n",
       "    <tr>\n",
       "      <th>234</th>\n",
       "      <td>ENSGT00900000140901</td>\n",
       "      <td>1.0</td>\n",
       "      <td>1.0</td>\n",
       "      <td>1.0</td>\n",
       "      <td>tsm++Macse+unitary</td>\n",
       "    </tr>\n",
       "    <tr>\n",
       "      <th>235</th>\n",
       "      <td>ENSGT00900000140926</td>\n",
       "      <td>1.0</td>\n",
       "      <td>1.0</td>\n",
       "      <td>1.0</td>\n",
       "      <td>tsm++Macse+unitary</td>\n",
       "    </tr>\n",
       "  </tbody>\n",
       "</table>\n",
       "<p>142 rows × 5 columns</p>\n",
       "</div>"
      ],
      "text/plain": [
       "                  family  Homogeneity  Completeness  V-measure  \\\n",
       "0    ENSGT00390000000080          1.0           1.0        1.0   \n",
       "1    ENSGT00390000000104          1.0           1.0        1.0   \n",
       "5    ENSGT00390000001038          1.0           1.0        1.0   \n",
       "7    ENSGT00390000002049          1.0           1.0        1.0   \n",
       "8    ENSGT00390000002215          1.0           1.0        1.0   \n",
       "..                   ...          ...           ...        ...   \n",
       "228  ENSGT00900000140835          1.0           1.0        1.0   \n",
       "231  ENSGT00900000140842          1.0           1.0        1.0   \n",
       "232  ENSGT00900000140850          1.0           1.0        1.0   \n",
       "234  ENSGT00900000140901          1.0           1.0        1.0   \n",
       "235  ENSGT00900000140926          1.0           1.0        1.0   \n",
       "\n",
       "                 method  \n",
       "0    tsm++Macse+unitary  \n",
       "1    tsm++Macse+unitary  \n",
       "5    tsm++Macse+unitary  \n",
       "7    tsm++Macse+unitary  \n",
       "8    tsm++Macse+unitary  \n",
       "..                  ...  \n",
       "228  tsm++Macse+unitary  \n",
       "231  tsm++Macse+unitary  \n",
       "232  tsm++Macse+unitary  \n",
       "234  tsm++Macse+unitary  \n",
       "235  tsm++Macse+unitary  \n",
       "\n",
       "[142 rows x 5 columns]"
      ]
     },
     "execution_count": 55,
     "metadata": {},
     "output_type": "execute_result"
    }
   ],
   "source": [
    "tmp"
   ]
  },
  {
   "cell_type": "code",
   "execution_count": 56,
   "metadata": {},
   "outputs": [
    {
     "data": {
      "text/plain": [
       "family          ENSGT00390000000080ENSGT00390000000104ENSGT003...\n",
       "Homogeneity                                               138.467\n",
       "Completeness                                              138.667\n",
       "V-measure                                                 138.385\n",
       "nb_ref                                                        424\n",
       "nb_pred                                                       422\n",
       "dtype: object"
      ]
     },
     "execution_count": 56,
     "metadata": {},
     "output_type": "execute_result"
    }
   ],
   "source": [
    "trs = tmp.family.values\n",
    "len(trs)\n",
    "result_df[result_df.family.isin(list(trs))].sum()"
   ]
  },
  {
   "cell_type": "code",
   "execution_count": 57,
   "metadata": {},
   "outputs": [
    {
     "data": {
      "text/html": [
       "<div>\n",
       "<style scoped>\n",
       "    .dataframe tbody tr th:only-of-type {\n",
       "        vertical-align: middle;\n",
       "    }\n",
       "\n",
       "    .dataframe tbody tr th {\n",
       "        vertical-align: top;\n",
       "    }\n",
       "\n",
       "    .dataframe thead th {\n",
       "        text-align: right;\n",
       "    }\n",
       "</style>\n",
       "<table border=\"1\" class=\"dataframe\">\n",
       "  <thead>\n",
       "    <tr style=\"text-align: right;\">\n",
       "      <th></th>\n",
       "      <th>family</th>\n",
       "      <th>Homogeneity</th>\n",
       "      <th>Completeness</th>\n",
       "      <th>V-measure</th>\n",
       "      <th>nb_ref</th>\n",
       "      <th>nb_pred</th>\n",
       "    </tr>\n",
       "  </thead>\n",
       "  <tbody>\n",
       "    <tr>\n",
       "      <th>ENSGT00390000000080</th>\n",
       "      <td>ENSGT00390000000080</td>\n",
       "      <td>1.000000</td>\n",
       "      <td>1.000000</td>\n",
       "      <td>1.000000</td>\n",
       "      <td>3</td>\n",
       "      <td>3</td>\n",
       "    </tr>\n",
       "    <tr>\n",
       "      <th>ENSGT00390000000104</th>\n",
       "      <td>ENSGT00390000000104</td>\n",
       "      <td>1.000000</td>\n",
       "      <td>1.000000</td>\n",
       "      <td>1.000000</td>\n",
       "      <td>3</td>\n",
       "      <td>3</td>\n",
       "    </tr>\n",
       "    <tr>\n",
       "      <th>ENSGT00390000000212</th>\n",
       "      <td>ENSGT00390000000212</td>\n",
       "      <td>1.000000</td>\n",
       "      <td>1.000000</td>\n",
       "      <td>1.000000</td>\n",
       "      <td>7</td>\n",
       "      <td>7</td>\n",
       "    </tr>\n",
       "    <tr>\n",
       "      <th>ENSGT00390000000583</th>\n",
       "      <td>ENSGT00390000000583</td>\n",
       "      <td>0.111111</td>\n",
       "      <td>0.111111</td>\n",
       "      <td>0.111111</td>\n",
       "      <td>2</td>\n",
       "      <td>2</td>\n",
       "    </tr>\n",
       "    <tr>\n",
       "      <th>ENSGT00390000000860</th>\n",
       "      <td>ENSGT00390000000860</td>\n",
       "      <td>0.416667</td>\n",
       "      <td>0.500000</td>\n",
       "      <td>0.450000</td>\n",
       "      <td>3</td>\n",
       "      <td>3</td>\n",
       "    </tr>\n",
       "    <tr>\n",
       "      <th>...</th>\n",
       "      <td>...</td>\n",
       "      <td>...</td>\n",
       "      <td>...</td>\n",
       "      <td>...</td>\n",
       "      <td>...</td>\n",
       "      <td>...</td>\n",
       "    </tr>\n",
       "    <tr>\n",
       "      <th>ENSGT00900000140842</th>\n",
       "      <td>ENSGT00900000140842</td>\n",
       "      <td>1.000000</td>\n",
       "      <td>1.000000</td>\n",
       "      <td>1.000000</td>\n",
       "      <td>3</td>\n",
       "      <td>3</td>\n",
       "    </tr>\n",
       "    <tr>\n",
       "      <th>ENSGT00900000140850</th>\n",
       "      <td>ENSGT00900000140850</td>\n",
       "      <td>1.000000</td>\n",
       "      <td>1.000000</td>\n",
       "      <td>1.000000</td>\n",
       "      <td>2</td>\n",
       "      <td>2</td>\n",
       "    </tr>\n",
       "    <tr>\n",
       "      <th>ENSGT00900000140881</th>\n",
       "      <td>ENSGT00900000140881</td>\n",
       "      <td>0.687500</td>\n",
       "      <td>0.750000</td>\n",
       "      <td>0.714286</td>\n",
       "      <td>4</td>\n",
       "      <td>3</td>\n",
       "    </tr>\n",
       "    <tr>\n",
       "      <th>ENSGT00900000140901</th>\n",
       "      <td>ENSGT00900000140901</td>\n",
       "      <td>1.000000</td>\n",
       "      <td>1.000000</td>\n",
       "      <td>1.000000</td>\n",
       "      <td>2</td>\n",
       "      <td>2</td>\n",
       "    </tr>\n",
       "    <tr>\n",
       "      <th>ENSGT00900000140926</th>\n",
       "      <td>ENSGT00900000140926</td>\n",
       "      <td>1.000000</td>\n",
       "      <td>1.000000</td>\n",
       "      <td>1.000000</td>\n",
       "      <td>4</td>\n",
       "      <td>4</td>\n",
       "    </tr>\n",
       "  </tbody>\n",
       "</table>\n",
       "<p>236 rows × 6 columns</p>\n",
       "</div>"
      ],
      "text/plain": [
       "                                  family  Homogeneity  Completeness  \\\n",
       "ENSGT00390000000080  ENSGT00390000000080     1.000000      1.000000   \n",
       "ENSGT00390000000104  ENSGT00390000000104     1.000000      1.000000   \n",
       "ENSGT00390000000212  ENSGT00390000000212     1.000000      1.000000   \n",
       "ENSGT00390000000583  ENSGT00390000000583     0.111111      0.111111   \n",
       "ENSGT00390000000860  ENSGT00390000000860     0.416667      0.500000   \n",
       "...                                  ...          ...           ...   \n",
       "ENSGT00900000140842  ENSGT00900000140842     1.000000      1.000000   \n",
       "ENSGT00900000140850  ENSGT00900000140850     1.000000      1.000000   \n",
       "ENSGT00900000140881  ENSGT00900000140881     0.687500      0.750000   \n",
       "ENSGT00900000140901  ENSGT00900000140901     1.000000      1.000000   \n",
       "ENSGT00900000140926  ENSGT00900000140926     1.000000      1.000000   \n",
       "\n",
       "                     V-measure nb_ref nb_pred  \n",
       "ENSGT00390000000080   1.000000      3       3  \n",
       "ENSGT00390000000104   1.000000      3       3  \n",
       "ENSGT00390000000212   1.000000      7       7  \n",
       "ENSGT00390000000583   0.111111      2       2  \n",
       "ENSGT00390000000860   0.450000      3       3  \n",
       "...                        ...    ...     ...  \n",
       "ENSGT00900000140842   1.000000      3       3  \n",
       "ENSGT00900000140850   1.000000      2       2  \n",
       "ENSGT00900000140881   0.714286      4       3  \n",
       "ENSGT00900000140901   1.000000      2       2  \n",
       "ENSGT00900000140926   1.000000      4       4  \n",
       "\n",
       "[236 rows x 6 columns]"
      ]
     },
     "execution_count": 57,
     "metadata": {},
     "output_type": "execute_result"
    }
   ],
   "source": [
    "result_df"
   ]
  },
  {
   "cell_type": "code",
   "execution_count": null,
   "metadata": {},
   "outputs": [],
   "source": []
  }
 ],
 "metadata": {
  "kernelspec": {
   "display_name": "Python 3",
   "language": "python",
   "name": "python3"
  },
  "language_info": {
   "codemirror_mode": {
    "name": "ipython",
    "version": 3
   },
   "file_extension": ".py",
   "mimetype": "text/x-python",
   "name": "python",
   "nbconvert_exporter": "python",
   "pygments_lexer": "ipython3",
   "version": "3.6.9"
  }
 },
 "nbformat": 4,
 "nbformat_minor": 4
}
